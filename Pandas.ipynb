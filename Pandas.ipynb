{
 "cells": [
  {
   "cell_type": "markdown",
   "metadata": {},
   "source": [
    "# Python w analizie danych - podstawy przetwarzania danych z `pandas`\n",
    "###### dr inż. Marcin Lawnik"
   ]
  },
  {
   "cell_type": "markdown",
   "metadata": {},
   "source": [
    "### Pakiet `pandas`\n",
    "> Python Data Analysis Library\n",
    "pandas is an open source, BSD-licensed library providing high-performance, easy-to-use data structures and data analysis tools for the Python programming language.\n",
    "\n",
    "[https://pandas.pydata.org/](https://pandas.pydata.org/)"
   ]
  },
  {
   "cell_type": "markdown",
   "metadata": {},
   "source": [
    "##### Instalacja\n",
    "\n",
    "`conda install pandas`"
   ]
  },
  {
   "cell_type": "markdown",
   "metadata": {},
   "source": [
    "###### Dokumentacja\n",
    "[https://pandas.pydata.org/pandas-docs/version/1.2.2/](https://pandas.pydata.org/pandas-docs/version/1.2.2/)"
   ]
  },
  {
   "cell_type": "markdown",
   "metadata": {},
   "source": [
    "##### `Series`"
   ]
  },
  {
   "cell_type": "code",
   "execution_count": 1,
   "metadata": {},
   "outputs": [],
   "source": [
    "import pandas as pd"
   ]
  },
  {
   "cell_type": "code",
   "execution_count": 2,
   "metadata": {},
   "outputs": [
    {
     "data": {
      "text/plain": [
       "0    1\n",
       "1   -2\n",
       "2    3\n",
       "dtype: int64"
      ]
     },
     "execution_count": 2,
     "metadata": {},
     "output_type": "execute_result"
    }
   ],
   "source": [
    "seria = pd.Series([1, -2, 3])\n",
    "seria"
   ]
  },
  {
   "cell_type": "code",
   "execution_count": 3,
   "metadata": {},
   "outputs": [
    {
     "data": {
      "text/plain": [
       "array([ 1, -2,  3], dtype=int64)"
      ]
     },
     "execution_count": 3,
     "metadata": {},
     "output_type": "execute_result"
    }
   ],
   "source": [
    "seria.values"
   ]
  },
  {
   "cell_type": "code",
   "execution_count": 4,
   "metadata": {},
   "outputs": [
    {
     "data": {
      "text/plain": [
       "RangeIndex(start=0, stop=3, step=1)"
      ]
     },
     "execution_count": 4,
     "metadata": {},
     "output_type": "execute_result"
    }
   ],
   "source": [
    "seria.index"
   ]
  },
  {
   "cell_type": "code",
   "execution_count": 5,
   "metadata": {
    "scrolled": true
   },
   "outputs": [
    {
     "data": {
      "text/plain": [
       "x    1\n",
       "y   -2\n",
       "z    3\n",
       "dtype: int64"
      ]
     },
     "execution_count": 5,
     "metadata": {},
     "output_type": "execute_result"
    }
   ],
   "source": [
    "seria.index = ['x', 'y','z']\n",
    "seria"
   ]
  },
  {
   "cell_type": "markdown",
   "metadata": {},
   "source": [
    "**Uwaga** Indeksów nie można modyfikować."
   ]
  },
  {
   "cell_type": "code",
   "execution_count": 6,
   "metadata": {},
   "outputs": [
    {
     "data": {
      "text/plain": [
       "z    3.0\n",
       "y   -2.0\n",
       "x    1.0\n",
       "w    NaN\n",
       "dtype: float64"
      ]
     },
     "execution_count": 6,
     "metadata": {},
     "output_type": "execute_result"
    }
   ],
   "source": [
    "seria_2 = seria.reindex(['z', 'y','x','w'])\n",
    "seria_2"
   ]
  },
  {
   "cell_type": "code",
   "execution_count": 7,
   "metadata": {},
   "outputs": [
    {
     "data": {
      "text/plain": [
       "z    3\n",
       "y   -2\n",
       "x    1\n",
       "w    0\n",
       "dtype: int64"
      ]
     },
     "execution_count": 7,
     "metadata": {},
     "output_type": "execute_result"
    }
   ],
   "source": [
    "seria_2 = seria.reindex(['z', 'y','x','w'], fill_value=0)\n",
    "seria_2"
   ]
  },
  {
   "cell_type": "code",
   "execution_count": 8,
   "metadata": {
    "scrolled": true
   },
   "outputs": [
    {
     "data": {
      "text/plain": [
       "x    1\n",
       "y   -2\n",
       "z    3\n",
       "Name: dane, dtype: int64"
      ]
     },
     "execution_count": 8,
     "metadata": {},
     "output_type": "execute_result"
    }
   ],
   "source": [
    "seria.name = 'dane'\n",
    "seria"
   ]
  },
  {
   "cell_type": "code",
   "execution_count": 9,
   "metadata": {},
   "outputs": [
    {
     "data": {
      "text/plain": [
       "zestawienie\n",
       "x    1\n",
       "y   -2\n",
       "z    3\n",
       "Name: dane, dtype: int64"
      ]
     },
     "execution_count": 9,
     "metadata": {},
     "output_type": "execute_result"
    }
   ],
   "source": [
    "seria.index.name = 'zestawienie'\n",
    "seria"
   ]
  },
  {
   "cell_type": "code",
   "execution_count": 10,
   "metadata": {},
   "outputs": [
    {
     "data": {
      "text/plain": [
       "x    1\n",
       "y   -2\n",
       "z    3\n",
       "dtype: int64"
      ]
     },
     "execution_count": 10,
     "metadata": {},
     "output_type": "execute_result"
    }
   ],
   "source": [
    "seria = pd.Series([1, -2,  3], index=['x', 'y', 'z'])\n",
    "seria"
   ]
  },
  {
   "cell_type": "code",
   "execution_count": 11,
   "metadata": {},
   "outputs": [
    {
     "data": {
      "text/plain": [
       "1"
      ]
     },
     "execution_count": 11,
     "metadata": {},
     "output_type": "execute_result"
    }
   ],
   "source": [
    "seria['x']"
   ]
  },
  {
   "cell_type": "code",
   "execution_count": 12,
   "metadata": {},
   "outputs": [
    {
     "data": {
      "text/plain": [
       "x    1\n",
       "z    3\n",
       "dtype: int64"
      ]
     },
     "execution_count": 12,
     "metadata": {},
     "output_type": "execute_result"
    }
   ],
   "source": [
    "seria[['x','z']]"
   ]
  },
  {
   "cell_type": "code",
   "execution_count": 13,
   "metadata": {},
   "outputs": [
    {
     "data": {
      "text/plain": [
       "x    1\n",
       "y   -2\n",
       "z    3\n",
       "dtype: int64"
      ]
     },
     "execution_count": 13,
     "metadata": {},
     "output_type": "execute_result"
    }
   ],
   "source": [
    "seria['x':'z']"
   ]
  },
  {
   "cell_type": "code",
   "execution_count": 14,
   "metadata": {},
   "outputs": [
    {
     "data": {
      "text/plain": [
       "x   -1\n",
       "y    2\n",
       "z    3\n",
       "dtype: int64"
      ]
     },
     "execution_count": 14,
     "metadata": {},
     "output_type": "execute_result"
    }
   ],
   "source": [
    "seria['x':'y'] = [-1,2]\n",
    "seria"
   ]
  },
  {
   "cell_type": "code",
   "execution_count": 15,
   "metadata": {},
   "outputs": [
    {
     "data": {
      "text/plain": [
       "y    2\n",
       "z    3\n",
       "dtype: int64"
      ]
     },
     "execution_count": 15,
     "metadata": {},
     "output_type": "execute_result"
    }
   ],
   "source": [
    "seria[seria > 0]"
   ]
  },
  {
   "cell_type": "code",
   "execution_count": 16,
   "metadata": {},
   "outputs": [
    {
     "data": {
      "text/plain": [
       "True"
      ]
     },
     "execution_count": 16,
     "metadata": {},
     "output_type": "execute_result"
    }
   ],
   "source": [
    "'x' in seria"
   ]
  },
  {
   "cell_type": "code",
   "execution_count": 17,
   "metadata": {},
   "outputs": [
    {
     "data": {
      "text/plain": [
       "False"
      ]
     },
     "execution_count": 17,
     "metadata": {},
     "output_type": "execute_result"
    }
   ],
   "source": [
    "'w' in seria"
   ]
  },
  {
   "cell_type": "code",
   "execution_count": 18,
   "metadata": {},
   "outputs": [
    {
     "data": {
      "text/plain": [
       "x   -2\n",
       "y    4\n",
       "z    6\n",
       "dtype: int64"
      ]
     },
     "execution_count": 18,
     "metadata": {},
     "output_type": "execute_result"
    }
   ],
   "source": [
    "seria = seria*2\n",
    "seria"
   ]
  },
  {
   "cell_type": "code",
   "execution_count": 19,
   "metadata": {},
   "outputs": [
    {
     "data": {
      "text/plain": [
       "x    -4\n",
       "y     8\n",
       "z    12\n",
       "dtype: int64"
      ]
     },
     "execution_count": 19,
     "metadata": {},
     "output_type": "execute_result"
    }
   ],
   "source": [
    "seria + seria"
   ]
  },
  {
   "cell_type": "code",
   "execution_count": 20,
   "metadata": {},
   "outputs": [
    {
     "data": {
      "text/plain": [
       "x    1\n",
       "y   -2\n",
       "z    3\n",
       "dtype: int64"
      ]
     },
     "execution_count": 20,
     "metadata": {},
     "output_type": "execute_result"
    }
   ],
   "source": [
    "dane = {'x': 1, 'y': -2, 'z': 3}\n",
    "seria = pd.Series(dane)\n",
    "seria"
   ]
  },
  {
   "cell_type": "code",
   "execution_count": 21,
   "metadata": {},
   "outputs": [
    {
     "data": {
      "text/plain": [
       "x    1.0\n",
       "y   -2.0\n",
       "z    3.0\n",
       "w    NaN\n",
       "dtype: float64"
      ]
     },
     "execution_count": 21,
     "metadata": {},
     "output_type": "execute_result"
    }
   ],
   "source": [
    "indeksy = ['x', 'y', 'z', 'w']\n",
    "seria = pd.Series(dane, index=indeksy)\n",
    "seria"
   ]
  },
  {
   "cell_type": "code",
   "execution_count": 22,
   "metadata": {},
   "outputs": [
    {
     "data": {
      "text/plain": [
       "x    False\n",
       "y    False\n",
       "z    False\n",
       "w     True\n",
       "dtype: bool"
      ]
     },
     "execution_count": 22,
     "metadata": {},
     "output_type": "execute_result"
    }
   ],
   "source": [
    "seria.isnull()"
   ]
  },
  {
   "cell_type": "code",
   "execution_count": 23,
   "metadata": {},
   "outputs": [
    {
     "data": {
      "text/plain": [
       "x     True\n",
       "y     True\n",
       "z     True\n",
       "w    False\n",
       "dtype: bool"
      ]
     },
     "execution_count": 23,
     "metadata": {},
     "output_type": "execute_result"
    }
   ],
   "source": [
    "seria.notnull()"
   ]
  },
  {
   "cell_type": "code",
   "execution_count": 24,
   "metadata": {},
   "outputs": [
    {
     "data": {
      "text/plain": [
       "array(['x', 'y', 'z'], dtype=object)"
      ]
     },
     "execution_count": 24,
     "metadata": {},
     "output_type": "execute_result"
    }
   ],
   "source": [
    "seria = pd.Series(['x', 'y', 'x', 'z', 'y', 'y', 'z', 'z'])\n",
    "\n",
    "unikalne = seria.unique()\n",
    "unikalne"
   ]
  },
  {
   "cell_type": "markdown",
   "metadata": {},
   "source": [
    "##### Ramki danych (DataFrame)"
   ]
  },
  {
   "cell_type": "code",
   "execution_count": 25,
   "metadata": {},
   "outputs": [
    {
     "data": {
      "text/html": [
       "<div>\n",
       "<style scoped>\n",
       "    .dataframe tbody tr th:only-of-type {\n",
       "        vertical-align: middle;\n",
       "    }\n",
       "\n",
       "    .dataframe tbody tr th {\n",
       "        vertical-align: top;\n",
       "    }\n",
       "\n",
       "    .dataframe thead th {\n",
       "        text-align: right;\n",
       "    }\n",
       "</style>\n",
       "<table border=\"1\" class=\"dataframe\">\n",
       "  <thead>\n",
       "    <tr style=\"text-align: right;\">\n",
       "      <th></th>\n",
       "      <th>rok</th>\n",
       "      <th>informatyka</th>\n",
       "      <th>matematyka</th>\n",
       "    </tr>\n",
       "  </thead>\n",
       "  <tbody>\n",
       "    <tr>\n",
       "      <td>0</td>\n",
       "      <td>2015</td>\n",
       "      <td>150</td>\n",
       "      <td>250</td>\n",
       "    </tr>\n",
       "    <tr>\n",
       "      <td>1</td>\n",
       "      <td>2016</td>\n",
       "      <td>125</td>\n",
       "      <td>225</td>\n",
       "    </tr>\n",
       "    <tr>\n",
       "      <td>2</td>\n",
       "      <td>2017</td>\n",
       "      <td>130</td>\n",
       "      <td>230</td>\n",
       "    </tr>\n",
       "    <tr>\n",
       "      <td>3</td>\n",
       "      <td>2018</td>\n",
       "      <td>175</td>\n",
       "      <td>275</td>\n",
       "    </tr>\n",
       "  </tbody>\n",
       "</table>\n",
       "</div>"
      ],
      "text/plain": [
       "    rok  informatyka  matematyka\n",
       "0  2015          150         250\n",
       "1  2016          125         225\n",
       "2  2017          130         230\n",
       "3  2018          175         275"
      ]
     },
     "execution_count": 25,
     "metadata": {},
     "output_type": "execute_result"
    }
   ],
   "source": [
    "dane = {'rok': [2015, 2016, 2017, 2018],\n",
    "'informatyka': [150, 125, 130, 175],\n",
    "'matematyka': [250, 225, 230, 275]}\n",
    "frame = pd.DataFrame(dane)\n",
    "frame"
   ]
  },
  {
   "cell_type": "code",
   "execution_count": 26,
   "metadata": {},
   "outputs": [
    {
     "data": {
      "text/html": [
       "<div>\n",
       "<style scoped>\n",
       "    .dataframe tbody tr th:only-of-type {\n",
       "        vertical-align: middle;\n",
       "    }\n",
       "\n",
       "    .dataframe tbody tr th {\n",
       "        vertical-align: top;\n",
       "    }\n",
       "\n",
       "    .dataframe thead th {\n",
       "        text-align: right;\n",
       "    }\n",
       "</style>\n",
       "<table border=\"1\" class=\"dataframe\">\n",
       "  <thead>\n",
       "    <tr style=\"text-align: right;\">\n",
       "      <th></th>\n",
       "      <th>rok</th>\n",
       "      <th>matematyka</th>\n",
       "      <th>informatyka</th>\n",
       "    </tr>\n",
       "  </thead>\n",
       "  <tbody>\n",
       "    <tr>\n",
       "      <td>0</td>\n",
       "      <td>2015</td>\n",
       "      <td>250</td>\n",
       "      <td>150</td>\n",
       "    </tr>\n",
       "    <tr>\n",
       "      <td>1</td>\n",
       "      <td>2016</td>\n",
       "      <td>225</td>\n",
       "      <td>125</td>\n",
       "    </tr>\n",
       "    <tr>\n",
       "      <td>2</td>\n",
       "      <td>2017</td>\n",
       "      <td>230</td>\n",
       "      <td>130</td>\n",
       "    </tr>\n",
       "    <tr>\n",
       "      <td>3</td>\n",
       "      <td>2018</td>\n",
       "      <td>275</td>\n",
       "      <td>175</td>\n",
       "    </tr>\n",
       "  </tbody>\n",
       "</table>\n",
       "</div>"
      ],
      "text/plain": [
       "    rok  matematyka  informatyka\n",
       "0  2015         250          150\n",
       "1  2016         225          125\n",
       "2  2017         230          130\n",
       "3  2018         275          175"
      ]
     },
     "execution_count": 26,
     "metadata": {},
     "output_type": "execute_result"
    }
   ],
   "source": [
    "frame = pd.DataFrame(dane, columns=['rok', 'matematyka', 'informatyka'])\n",
    "frame"
   ]
  },
  {
   "cell_type": "code",
   "execution_count": 27,
   "metadata": {},
   "outputs": [
    {
     "data": {
      "text/plain": [
       "Index(['rok', 'matematyka', 'informatyka'], dtype='object')"
      ]
     },
     "execution_count": 27,
     "metadata": {},
     "output_type": "execute_result"
    }
   ],
   "source": [
    "frame.columns"
   ]
  },
  {
   "cell_type": "code",
   "execution_count": 28,
   "metadata": {},
   "outputs": [
    {
     "data": {
      "text/html": [
       "<div>\n",
       "<style scoped>\n",
       "    .dataframe tbody tr th:only-of-type {\n",
       "        vertical-align: middle;\n",
       "    }\n",
       "\n",
       "    .dataframe tbody tr th {\n",
       "        vertical-align: top;\n",
       "    }\n",
       "\n",
       "    .dataframe thead th {\n",
       "        text-align: right;\n",
       "    }\n",
       "</style>\n",
       "<table border=\"1\" class=\"dataframe\">\n",
       "  <thead>\n",
       "    <tr style=\"text-align: right;\">\n",
       "      <th></th>\n",
       "      <th>rok</th>\n",
       "      <th>matematyka</th>\n",
       "      <th>informatyka</th>\n",
       "    </tr>\n",
       "  </thead>\n",
       "  <tbody>\n",
       "    <tr>\n",
       "      <td>a</td>\n",
       "      <td>2015</td>\n",
       "      <td>250</td>\n",
       "      <td>150</td>\n",
       "    </tr>\n",
       "    <tr>\n",
       "      <td>b</td>\n",
       "      <td>2016</td>\n",
       "      <td>225</td>\n",
       "      <td>125</td>\n",
       "    </tr>\n",
       "    <tr>\n",
       "      <td>c</td>\n",
       "      <td>2017</td>\n",
       "      <td>230</td>\n",
       "      <td>130</td>\n",
       "    </tr>\n",
       "    <tr>\n",
       "      <td>d</td>\n",
       "      <td>2018</td>\n",
       "      <td>275</td>\n",
       "      <td>175</td>\n",
       "    </tr>\n",
       "  </tbody>\n",
       "</table>\n",
       "</div>"
      ],
      "text/plain": [
       "    rok  matematyka  informatyka\n",
       "a  2015         250          150\n",
       "b  2016         225          125\n",
       "c  2017         230          130\n",
       "d  2018         275          175"
      ]
     },
     "execution_count": 28,
     "metadata": {},
     "output_type": "execute_result"
    }
   ],
   "source": [
    "frame.index = ['a','b','c','d']\n",
    "frame"
   ]
  },
  {
   "cell_type": "code",
   "execution_count": 29,
   "metadata": {},
   "outputs": [
    {
     "data": {
      "text/html": [
       "<div>\n",
       "<style scoped>\n",
       "    .dataframe tbody tr th:only-of-type {\n",
       "        vertical-align: middle;\n",
       "    }\n",
       "\n",
       "    .dataframe tbody tr th {\n",
       "        vertical-align: top;\n",
       "    }\n",
       "\n",
       "    .dataframe thead th {\n",
       "        text-align: right;\n",
       "    }\n",
       "</style>\n",
       "<table border=\"1\" class=\"dataframe\">\n",
       "  <thead>\n",
       "    <tr style=\"text-align: right;\">\n",
       "      <th></th>\n",
       "      <th>rok</th>\n",
       "      <th>matematyka</th>\n",
       "      <th>informatyka</th>\n",
       "      <th>fizyka</th>\n",
       "    </tr>\n",
       "  </thead>\n",
       "  <tbody>\n",
       "    <tr>\n",
       "      <td>0</td>\n",
       "      <td>2015</td>\n",
       "      <td>250</td>\n",
       "      <td>150</td>\n",
       "      <td>NaN</td>\n",
       "    </tr>\n",
       "    <tr>\n",
       "      <td>1</td>\n",
       "      <td>2016</td>\n",
       "      <td>225</td>\n",
       "      <td>125</td>\n",
       "      <td>NaN</td>\n",
       "    </tr>\n",
       "    <tr>\n",
       "      <td>2</td>\n",
       "      <td>2017</td>\n",
       "      <td>230</td>\n",
       "      <td>130</td>\n",
       "      <td>NaN</td>\n",
       "    </tr>\n",
       "    <tr>\n",
       "      <td>3</td>\n",
       "      <td>2018</td>\n",
       "      <td>275</td>\n",
       "      <td>175</td>\n",
       "      <td>NaN</td>\n",
       "    </tr>\n",
       "  </tbody>\n",
       "</table>\n",
       "</div>"
      ],
      "text/plain": [
       "    rok  matematyka  informatyka fizyka\n",
       "0  2015         250          150    NaN\n",
       "1  2016         225          125    NaN\n",
       "2  2017         230          130    NaN\n",
       "3  2018         275          175    NaN"
      ]
     },
     "execution_count": 29,
     "metadata": {},
     "output_type": "execute_result"
    }
   ],
   "source": [
    "frame = pd.DataFrame(dane, columns=['rok', 'matematyka', 'informatyka', 'fizyka'])\n",
    "frame"
   ]
  },
  {
   "cell_type": "code",
   "execution_count": 30,
   "metadata": {},
   "outputs": [
    {
     "data": {
      "text/plain": [
       "0    2015\n",
       "1    2016\n",
       "2    2017\n",
       "3    2018\n",
       "Name: rok, dtype: int64"
      ]
     },
     "execution_count": 30,
     "metadata": {},
     "output_type": "execute_result"
    }
   ],
   "source": [
    "frame.rok"
   ]
  },
  {
   "cell_type": "code",
   "execution_count": 31,
   "metadata": {},
   "outputs": [
    {
     "data": {
      "text/plain": [
       "0    2015\n",
       "1    2016\n",
       "2    2017\n",
       "3    2018\n",
       "Name: rok, dtype: int64"
      ]
     },
     "execution_count": 31,
     "metadata": {},
     "output_type": "execute_result"
    }
   ],
   "source": [
    "frame['rok']"
   ]
  },
  {
   "cell_type": "code",
   "execution_count": 32,
   "metadata": {},
   "outputs": [
    {
     "data": {
      "text/html": [
       "<div>\n",
       "<style scoped>\n",
       "    .dataframe tbody tr th:only-of-type {\n",
       "        vertical-align: middle;\n",
       "    }\n",
       "\n",
       "    .dataframe tbody tr th {\n",
       "        vertical-align: top;\n",
       "    }\n",
       "\n",
       "    .dataframe thead th {\n",
       "        text-align: right;\n",
       "    }\n",
       "</style>\n",
       "<table border=\"1\" class=\"dataframe\">\n",
       "  <thead>\n",
       "    <tr style=\"text-align: right;\">\n",
       "      <th></th>\n",
       "      <th>rok</th>\n",
       "      <th>matematyka</th>\n",
       "      <th>informatyka</th>\n",
       "      <th>fizyka</th>\n",
       "    </tr>\n",
       "  </thead>\n",
       "  <tbody>\n",
       "    <tr>\n",
       "      <td>0</td>\n",
       "      <td>2015</td>\n",
       "      <td>250</td>\n",
       "      <td>150</td>\n",
       "      <td>100</td>\n",
       "    </tr>\n",
       "    <tr>\n",
       "      <td>1</td>\n",
       "      <td>2016</td>\n",
       "      <td>225</td>\n",
       "      <td>125</td>\n",
       "      <td>100</td>\n",
       "    </tr>\n",
       "    <tr>\n",
       "      <td>2</td>\n",
       "      <td>2017</td>\n",
       "      <td>230</td>\n",
       "      <td>130</td>\n",
       "      <td>100</td>\n",
       "    </tr>\n",
       "    <tr>\n",
       "      <td>3</td>\n",
       "      <td>2018</td>\n",
       "      <td>275</td>\n",
       "      <td>175</td>\n",
       "      <td>100</td>\n",
       "    </tr>\n",
       "  </tbody>\n",
       "</table>\n",
       "</div>"
      ],
      "text/plain": [
       "    rok  matematyka  informatyka  fizyka\n",
       "0  2015         250          150     100\n",
       "1  2016         225          125     100\n",
       "2  2017         230          130     100\n",
       "3  2018         275          175     100"
      ]
     },
     "execution_count": 32,
     "metadata": {},
     "output_type": "execute_result"
    }
   ],
   "source": [
    "frame.fizyka = 100\n",
    "frame"
   ]
  },
  {
   "cell_type": "code",
   "execution_count": 33,
   "metadata": {
    "scrolled": true
   },
   "outputs": [
    {
     "data": {
      "text/html": [
       "<div>\n",
       "<style scoped>\n",
       "    .dataframe tbody tr th:only-of-type {\n",
       "        vertical-align: middle;\n",
       "    }\n",
       "\n",
       "    .dataframe tbody tr th {\n",
       "        vertical-align: top;\n",
       "    }\n",
       "\n",
       "    .dataframe thead th {\n",
       "        text-align: right;\n",
       "    }\n",
       "</style>\n",
       "<table border=\"1\" class=\"dataframe\">\n",
       "  <thead>\n",
       "    <tr style=\"text-align: right;\">\n",
       "      <th></th>\n",
       "      <th>rok</th>\n",
       "      <th>matematyka</th>\n",
       "      <th>informatyka</th>\n",
       "      <th>fizyka</th>\n",
       "    </tr>\n",
       "  </thead>\n",
       "  <tbody>\n",
       "    <tr>\n",
       "      <td>0</td>\n",
       "      <td>2015</td>\n",
       "      <td>250</td>\n",
       "      <td>150</td>\n",
       "      <td>80</td>\n",
       "    </tr>\n",
       "    <tr>\n",
       "      <td>1</td>\n",
       "      <td>2016</td>\n",
       "      <td>225</td>\n",
       "      <td>125</td>\n",
       "      <td>90</td>\n",
       "    </tr>\n",
       "    <tr>\n",
       "      <td>2</td>\n",
       "      <td>2017</td>\n",
       "      <td>230</td>\n",
       "      <td>130</td>\n",
       "      <td>100</td>\n",
       "    </tr>\n",
       "    <tr>\n",
       "      <td>3</td>\n",
       "      <td>2018</td>\n",
       "      <td>275</td>\n",
       "      <td>175</td>\n",
       "      <td>120</td>\n",
       "    </tr>\n",
       "  </tbody>\n",
       "</table>\n",
       "</div>"
      ],
      "text/plain": [
       "    rok  matematyka  informatyka  fizyka\n",
       "0  2015         250          150      80\n",
       "1  2016         225          125      90\n",
       "2  2017         230          130     100\n",
       "3  2018         275          175     120"
      ]
     },
     "execution_count": 33,
     "metadata": {},
     "output_type": "execute_result"
    }
   ],
   "source": [
    "frame.fizyka = pd.Series([120,100,90,80], index=[3,2,1,0])\n",
    "frame"
   ]
  },
  {
   "cell_type": "code",
   "execution_count": 34,
   "metadata": {},
   "outputs": [
    {
     "data": {
      "text/html": [
       "<div>\n",
       "<style scoped>\n",
       "    .dataframe tbody tr th:only-of-type {\n",
       "        vertical-align: middle;\n",
       "    }\n",
       "\n",
       "    .dataframe tbody tr th {\n",
       "        vertical-align: top;\n",
       "    }\n",
       "\n",
       "    .dataframe thead th {\n",
       "        text-align: right;\n",
       "    }\n",
       "</style>\n",
       "<table border=\"1\" class=\"dataframe\">\n",
       "  <thead>\n",
       "    <tr style=\"text-align: right;\">\n",
       "      <th></th>\n",
       "      <th>rok</th>\n",
       "      <th>matematyka</th>\n",
       "      <th>informatyka</th>\n",
       "    </tr>\n",
       "  </thead>\n",
       "  <tbody>\n",
       "    <tr>\n",
       "      <td>0</td>\n",
       "      <td>2015</td>\n",
       "      <td>250</td>\n",
       "      <td>150</td>\n",
       "    </tr>\n",
       "    <tr>\n",
       "      <td>1</td>\n",
       "      <td>2016</td>\n",
       "      <td>225</td>\n",
       "      <td>125</td>\n",
       "    </tr>\n",
       "    <tr>\n",
       "      <td>2</td>\n",
       "      <td>2017</td>\n",
       "      <td>230</td>\n",
       "      <td>130</td>\n",
       "    </tr>\n",
       "    <tr>\n",
       "      <td>3</td>\n",
       "      <td>2018</td>\n",
       "      <td>275</td>\n",
       "      <td>175</td>\n",
       "    </tr>\n",
       "  </tbody>\n",
       "</table>\n",
       "</div>"
      ],
      "text/plain": [
       "    rok  matematyka  informatyka\n",
       "0  2015         250          150\n",
       "1  2016         225          125\n",
       "2  2017         230          130\n",
       "3  2018         275          175"
      ]
     },
     "execution_count": 34,
     "metadata": {},
     "output_type": "execute_result"
    }
   ],
   "source": [
    "del frame['fizyka']\n",
    "frame"
   ]
  },
  {
   "cell_type": "code",
   "execution_count": 35,
   "metadata": {},
   "outputs": [
    {
     "name": "stderr",
     "output_type": "stream",
     "text": [
      "C:\\Users\\marcin.lawnik\\conda\\lib\\site-packages\\ipykernel_launcher.py:1: FutureWarning: \n",
      ".ix is deprecated. Please use\n",
      ".loc for label based indexing or\n",
      ".iloc for positional indexing\n",
      "\n",
      "See the documentation here:\n",
      "http://pandas.pydata.org/pandas-docs/stable/user_guide/indexing.html#ix-indexer-is-deprecated\n",
      "  \"\"\"Entry point for launching an IPython kernel.\n"
     ]
    },
    {
     "data": {
      "text/plain": [
       "rok            2016\n",
       "matematyka      225\n",
       "informatyka     125\n",
       "Name: 1, dtype: int64"
      ]
     },
     "execution_count": 35,
     "metadata": {},
     "output_type": "execute_result"
    }
   ],
   "source": [
    "frame.ix[1]"
   ]
  },
  {
   "cell_type": "code",
   "execution_count": 36,
   "metadata": {},
   "outputs": [
    {
     "data": {
      "text/plain": [
       "rok            2016\n",
       "matematyka      225\n",
       "informatyka     125\n",
       "Name: 1, dtype: int64"
      ]
     },
     "execution_count": 36,
     "metadata": {},
     "output_type": "execute_result"
    }
   ],
   "source": [
    "frame.iloc[1]"
   ]
  },
  {
   "cell_type": "code",
   "execution_count": 37,
   "metadata": {},
   "outputs": [
    {
     "data": {
      "text/plain": [
       "rok            2016\n",
       "matematyka      225\n",
       "informatyka     125\n",
       "Name: 1, dtype: int64"
      ]
     },
     "execution_count": 37,
     "metadata": {},
     "output_type": "execute_result"
    }
   ],
   "source": [
    "frame.loc[1]"
   ]
  },
  {
   "cell_type": "code",
   "execution_count": 38,
   "metadata": {},
   "outputs": [
    {
     "data": {
      "text/html": [
       "<div>\n",
       "<style scoped>\n",
       "    .dataframe tbody tr th:only-of-type {\n",
       "        vertical-align: middle;\n",
       "    }\n",
       "\n",
       "    .dataframe tbody tr th {\n",
       "        vertical-align: top;\n",
       "    }\n",
       "\n",
       "    .dataframe thead th {\n",
       "        text-align: right;\n",
       "    }\n",
       "</style>\n",
       "<table border=\"1\" class=\"dataframe\">\n",
       "  <thead>\n",
       "    <tr style=\"text-align: right;\">\n",
       "      <th></th>\n",
       "      <th>matematyka</th>\n",
       "      <th>informatyka</th>\n",
       "    </tr>\n",
       "  </thead>\n",
       "  <tbody>\n",
       "    <tr>\n",
       "      <td>2018</td>\n",
       "      <td>275</td>\n",
       "      <td>175</td>\n",
       "    </tr>\n",
       "    <tr>\n",
       "      <td>2017</td>\n",
       "      <td>230</td>\n",
       "      <td>130</td>\n",
       "    </tr>\n",
       "  </tbody>\n",
       "</table>\n",
       "</div>"
      ],
      "text/plain": [
       "      matematyka  informatyka\n",
       "2018         275          175\n",
       "2017         230          130"
      ]
     },
     "execution_count": 38,
     "metadata": {},
     "output_type": "execute_result"
    }
   ],
   "source": [
    "dane = {'matematyka': {2018: 275, 2017: 230},\n",
    " 'informatyka': {2018: 175, 2017: 130}}\n",
    "frame = pd.DataFrame(dane)\n",
    "frame"
   ]
  },
  {
   "cell_type": "code",
   "execution_count": 39,
   "metadata": {},
   "outputs": [
    {
     "data": {
      "text/html": [
       "<div>\n",
       "<style scoped>\n",
       "    .dataframe tbody tr th:only-of-type {\n",
       "        vertical-align: middle;\n",
       "    }\n",
       "\n",
       "    .dataframe tbody tr th {\n",
       "        vertical-align: top;\n",
       "    }\n",
       "\n",
       "    .dataframe thead th {\n",
       "        text-align: right;\n",
       "    }\n",
       "</style>\n",
       "<table border=\"1\" class=\"dataframe\">\n",
       "  <thead>\n",
       "    <tr style=\"text-align: right;\">\n",
       "      <th></th>\n",
       "      <th>2018</th>\n",
       "      <th>2017</th>\n",
       "    </tr>\n",
       "  </thead>\n",
       "  <tbody>\n",
       "    <tr>\n",
       "      <td>matematyka</td>\n",
       "      <td>275</td>\n",
       "      <td>230</td>\n",
       "    </tr>\n",
       "    <tr>\n",
       "      <td>informatyka</td>\n",
       "      <td>175</td>\n",
       "      <td>130</td>\n",
       "    </tr>\n",
       "  </tbody>\n",
       "</table>\n",
       "</div>"
      ],
      "text/plain": [
       "             2018  2017\n",
       "matematyka    275   230\n",
       "informatyka   175   130"
      ]
     },
     "execution_count": 39,
     "metadata": {},
     "output_type": "execute_result"
    }
   ],
   "source": [
    "frame.T"
   ]
  },
  {
   "cell_type": "code",
   "execution_count": 40,
   "metadata": {},
   "outputs": [
    {
     "data": {
      "text/html": [
       "<div>\n",
       "<style scoped>\n",
       "    .dataframe tbody tr th:only-of-type {\n",
       "        vertical-align: middle;\n",
       "    }\n",
       "\n",
       "    .dataframe tbody tr th {\n",
       "        vertical-align: top;\n",
       "    }\n",
       "\n",
       "    .dataframe thead th {\n",
       "        text-align: right;\n",
       "    }\n",
       "</style>\n",
       "<table border=\"1\" class=\"dataframe\">\n",
       "  <thead>\n",
       "    <tr style=\"text-align: right;\">\n",
       "      <th>kierunek</th>\n",
       "      <th>matematyka</th>\n",
       "      <th>informatyka</th>\n",
       "    </tr>\n",
       "    <tr>\n",
       "      <th>rok</th>\n",
       "      <th></th>\n",
       "      <th></th>\n",
       "    </tr>\n",
       "  </thead>\n",
       "  <tbody>\n",
       "    <tr>\n",
       "      <td>2018</td>\n",
       "      <td>275</td>\n",
       "      <td>175</td>\n",
       "    </tr>\n",
       "    <tr>\n",
       "      <td>2017</td>\n",
       "      <td>230</td>\n",
       "      <td>130</td>\n",
       "    </tr>\n",
       "  </tbody>\n",
       "</table>\n",
       "</div>"
      ],
      "text/plain": [
       "kierunek  matematyka  informatyka\n",
       "rok                              \n",
       "2018             275          175\n",
       "2017             230          130"
      ]
     },
     "execution_count": 40,
     "metadata": {},
     "output_type": "execute_result"
    }
   ],
   "source": [
    "frame.index.name='rok'\n",
    "frame.columns.name='kierunek'\n",
    "frame"
   ]
  },
  {
   "cell_type": "code",
   "execution_count": 41,
   "metadata": {},
   "outputs": [
    {
     "data": {
      "text/plain": [
       "array([[275, 175],\n",
       "       [230, 130]], dtype=int64)"
      ]
     },
     "execution_count": 41,
     "metadata": {},
     "output_type": "execute_result"
    }
   ],
   "source": [
    "frame.values"
   ]
  },
  {
   "cell_type": "markdown",
   "metadata": {},
   "source": [
    "##### `reindex()`"
   ]
  },
  {
   "cell_type": "code",
   "execution_count": 42,
   "metadata": {},
   "outputs": [
    {
     "data": {
      "text/html": [
       "<div>\n",
       "<style scoped>\n",
       "    .dataframe tbody tr th:only-of-type {\n",
       "        vertical-align: middle;\n",
       "    }\n",
       "\n",
       "    .dataframe tbody tr th {\n",
       "        vertical-align: top;\n",
       "    }\n",
       "\n",
       "    .dataframe thead th {\n",
       "        text-align: right;\n",
       "    }\n",
       "</style>\n",
       "<table border=\"1\" class=\"dataframe\">\n",
       "  <thead>\n",
       "    <tr style=\"text-align: right;\">\n",
       "      <th></th>\n",
       "      <th>matematyka</th>\n",
       "      <th>informatyka</th>\n",
       "    </tr>\n",
       "  </thead>\n",
       "  <tbody>\n",
       "    <tr>\n",
       "      <td>2018</td>\n",
       "      <td>275</td>\n",
       "      <td>175</td>\n",
       "    </tr>\n",
       "    <tr>\n",
       "      <td>2017</td>\n",
       "      <td>230</td>\n",
       "      <td>130</td>\n",
       "    </tr>\n",
       "  </tbody>\n",
       "</table>\n",
       "</div>"
      ],
      "text/plain": [
       "      matematyka  informatyka\n",
       "2018         275          175\n",
       "2017         230          130"
      ]
     },
     "execution_count": 42,
     "metadata": {},
     "output_type": "execute_result"
    }
   ],
   "source": [
    "dane = {'matematyka': {2018: 275, 2017: 230},\n",
    " 'informatyka': {2018: 175, 2017: 130}}\n",
    "frame = pd.DataFrame(dane)\n",
    "frame"
   ]
  },
  {
   "cell_type": "code",
   "execution_count": 43,
   "metadata": {},
   "outputs": [
    {
     "data": {
      "text/html": [
       "<div>\n",
       "<style scoped>\n",
       "    .dataframe tbody tr th:only-of-type {\n",
       "        vertical-align: middle;\n",
       "    }\n",
       "\n",
       "    .dataframe tbody tr th {\n",
       "        vertical-align: top;\n",
       "    }\n",
       "\n",
       "    .dataframe thead th {\n",
       "        text-align: right;\n",
       "    }\n",
       "</style>\n",
       "<table border=\"1\" class=\"dataframe\">\n",
       "  <thead>\n",
       "    <tr style=\"text-align: right;\">\n",
       "      <th></th>\n",
       "      <th>matematyka</th>\n",
       "      <th>informatyka</th>\n",
       "    </tr>\n",
       "  </thead>\n",
       "  <tbody>\n",
       "    <tr>\n",
       "      <td>2016</td>\n",
       "      <td>NaN</td>\n",
       "      <td>NaN</td>\n",
       "    </tr>\n",
       "    <tr>\n",
       "      <td>2017</td>\n",
       "      <td>230.0</td>\n",
       "      <td>130.0</td>\n",
       "    </tr>\n",
       "    <tr>\n",
       "      <td>2018</td>\n",
       "      <td>275.0</td>\n",
       "      <td>175.0</td>\n",
       "    </tr>\n",
       "  </tbody>\n",
       "</table>\n",
       "</div>"
      ],
      "text/plain": [
       "      matematyka  informatyka\n",
       "2016         NaN          NaN\n",
       "2017       230.0        130.0\n",
       "2018       275.0        175.0"
      ]
     },
     "execution_count": 43,
     "metadata": {},
     "output_type": "execute_result"
    }
   ],
   "source": [
    "frame.reindex([2016,2017,2018])"
   ]
  },
  {
   "cell_type": "code",
   "execution_count": 44,
   "metadata": {},
   "outputs": [
    {
     "data": {
      "text/html": [
       "<div>\n",
       "<style scoped>\n",
       "    .dataframe tbody tr th:only-of-type {\n",
       "        vertical-align: middle;\n",
       "    }\n",
       "\n",
       "    .dataframe tbody tr th {\n",
       "        vertical-align: top;\n",
       "    }\n",
       "\n",
       "    .dataframe thead th {\n",
       "        text-align: right;\n",
       "    }\n",
       "</style>\n",
       "<table border=\"1\" class=\"dataframe\">\n",
       "  <thead>\n",
       "    <tr style=\"text-align: right;\">\n",
       "      <th></th>\n",
       "      <th>fizyka</th>\n",
       "      <th>matematyka</th>\n",
       "      <th>informatyka</th>\n",
       "    </tr>\n",
       "  </thead>\n",
       "  <tbody>\n",
       "    <tr>\n",
       "      <td>2018</td>\n",
       "      <td>NaN</td>\n",
       "      <td>275</td>\n",
       "      <td>175</td>\n",
       "    </tr>\n",
       "    <tr>\n",
       "      <td>2017</td>\n",
       "      <td>NaN</td>\n",
       "      <td>230</td>\n",
       "      <td>130</td>\n",
       "    </tr>\n",
       "  </tbody>\n",
       "</table>\n",
       "</div>"
      ],
      "text/plain": [
       "      fizyka  matematyka  informatyka\n",
       "2018     NaN         275          175\n",
       "2017     NaN         230          130"
      ]
     },
     "execution_count": 44,
     "metadata": {},
     "output_type": "execute_result"
    }
   ],
   "source": [
    "frame_2 = frame.reindex(columns=['fizyka','matematyka','informatyka'])\n",
    "frame_2"
   ]
  },
  {
   "cell_type": "code",
   "execution_count": 45,
   "metadata": {},
   "outputs": [
    {
     "data": {
      "text/html": [
       "<div>\n",
       "<style scoped>\n",
       "    .dataframe tbody tr th:only-of-type {\n",
       "        vertical-align: middle;\n",
       "    }\n",
       "\n",
       "    .dataframe tbody tr th {\n",
       "        vertical-align: top;\n",
       "    }\n",
       "\n",
       "    .dataframe thead th {\n",
       "        text-align: right;\n",
       "    }\n",
       "</style>\n",
       "<table border=\"1\" class=\"dataframe\">\n",
       "  <thead>\n",
       "    <tr style=\"text-align: right;\">\n",
       "      <th></th>\n",
       "      <th>fizyka</th>\n",
       "      <th>matematyka</th>\n",
       "      <th>informatyka</th>\n",
       "    </tr>\n",
       "  </thead>\n",
       "  <tbody>\n",
       "    <tr>\n",
       "      <td>2018</td>\n",
       "      <td>100</td>\n",
       "      <td>275</td>\n",
       "      <td>175</td>\n",
       "    </tr>\n",
       "    <tr>\n",
       "      <td>2017</td>\n",
       "      <td>120</td>\n",
       "      <td>230</td>\n",
       "      <td>130</td>\n",
       "    </tr>\n",
       "  </tbody>\n",
       "</table>\n",
       "</div>"
      ],
      "text/plain": [
       "      fizyka  matematyka  informatyka\n",
       "2018     100         275          175\n",
       "2017     120         230          130"
      ]
     },
     "execution_count": 45,
     "metadata": {},
     "output_type": "execute_result"
    }
   ],
   "source": [
    "frame_2.fizyka = [100,120]\n",
    "frame_2"
   ]
  },
  {
   "cell_type": "markdown",
   "metadata": {},
   "source": [
    "##### `drop()`"
   ]
  },
  {
   "cell_type": "code",
   "execution_count": 46,
   "metadata": {},
   "outputs": [
    {
     "data": {
      "text/html": [
       "<div>\n",
       "<style scoped>\n",
       "    .dataframe tbody tr th:only-of-type {\n",
       "        vertical-align: middle;\n",
       "    }\n",
       "\n",
       "    .dataframe tbody tr th {\n",
       "        vertical-align: top;\n",
       "    }\n",
       "\n",
       "    .dataframe thead th {\n",
       "        text-align: right;\n",
       "    }\n",
       "</style>\n",
       "<table border=\"1\" class=\"dataframe\">\n",
       "  <thead>\n",
       "    <tr style=\"text-align: right;\">\n",
       "      <th></th>\n",
       "      <th>fizyka</th>\n",
       "      <th>matematyka</th>\n",
       "      <th>informatyka</th>\n",
       "    </tr>\n",
       "  </thead>\n",
       "  <tbody>\n",
       "    <tr>\n",
       "      <td>2018</td>\n",
       "      <td>100</td>\n",
       "      <td>275</td>\n",
       "      <td>175</td>\n",
       "    </tr>\n",
       "  </tbody>\n",
       "</table>\n",
       "</div>"
      ],
      "text/plain": [
       "      fizyka  matematyka  informatyka\n",
       "2018     100         275          175"
      ]
     },
     "execution_count": 46,
     "metadata": {},
     "output_type": "execute_result"
    }
   ],
   "source": [
    "frame_2.drop(2017)"
   ]
  },
  {
   "cell_type": "code",
   "execution_count": 47,
   "metadata": {},
   "outputs": [
    {
     "data": {
      "text/html": [
       "<div>\n",
       "<style scoped>\n",
       "    .dataframe tbody tr th:only-of-type {\n",
       "        vertical-align: middle;\n",
       "    }\n",
       "\n",
       "    .dataframe tbody tr th {\n",
       "        vertical-align: top;\n",
       "    }\n",
       "\n",
       "    .dataframe thead th {\n",
       "        text-align: right;\n",
       "    }\n",
       "</style>\n",
       "<table border=\"1\" class=\"dataframe\">\n",
       "  <thead>\n",
       "    <tr style=\"text-align: right;\">\n",
       "      <th></th>\n",
       "      <th>matematyka</th>\n",
       "      <th>informatyka</th>\n",
       "    </tr>\n",
       "  </thead>\n",
       "  <tbody>\n",
       "    <tr>\n",
       "      <td>2018</td>\n",
       "      <td>275</td>\n",
       "      <td>175</td>\n",
       "    </tr>\n",
       "    <tr>\n",
       "      <td>2017</td>\n",
       "      <td>230</td>\n",
       "      <td>130</td>\n",
       "    </tr>\n",
       "  </tbody>\n",
       "</table>\n",
       "</div>"
      ],
      "text/plain": [
       "      matematyka  informatyka\n",
       "2018         275          175\n",
       "2017         230          130"
      ]
     },
     "execution_count": 47,
     "metadata": {},
     "output_type": "execute_result"
    }
   ],
   "source": [
    "frame_2.drop('fizyka', axis=1)"
   ]
  },
  {
   "cell_type": "markdown",
   "metadata": {},
   "source": [
    "##### Operacje na ramkach danych"
   ]
  },
  {
   "cell_type": "code",
   "execution_count": 48,
   "metadata": {},
   "outputs": [
    {
     "data": {
      "text/html": [
       "<div>\n",
       "<style scoped>\n",
       "    .dataframe tbody tr th:only-of-type {\n",
       "        vertical-align: middle;\n",
       "    }\n",
       "\n",
       "    .dataframe tbody tr th {\n",
       "        vertical-align: top;\n",
       "    }\n",
       "\n",
       "    .dataframe thead th {\n",
       "        text-align: right;\n",
       "    }\n",
       "</style>\n",
       "<table border=\"1\" class=\"dataframe\">\n",
       "  <thead>\n",
       "    <tr style=\"text-align: right;\">\n",
       "      <th></th>\n",
       "      <th>matematyka</th>\n",
       "      <th>informatyka</th>\n",
       "      <th>fizyka</th>\n",
       "    </tr>\n",
       "  </thead>\n",
       "  <tbody>\n",
       "    <tr>\n",
       "      <td>2016</td>\n",
       "      <td>0.0</td>\n",
       "      <td>1.0</td>\n",
       "      <td>2.0</td>\n",
       "    </tr>\n",
       "    <tr>\n",
       "      <td>2017</td>\n",
       "      <td>3.0</td>\n",
       "      <td>4.0</td>\n",
       "      <td>5.0</td>\n",
       "    </tr>\n",
       "    <tr>\n",
       "      <td>2018</td>\n",
       "      <td>6.0</td>\n",
       "      <td>7.0</td>\n",
       "      <td>8.0</td>\n",
       "    </tr>\n",
       "  </tbody>\n",
       "</table>\n",
       "</div>"
      ],
      "text/plain": [
       "      matematyka  informatyka  fizyka\n",
       "2016         0.0          1.0     2.0\n",
       "2017         3.0          4.0     5.0\n",
       "2018         6.0          7.0     8.0"
      ]
     },
     "execution_count": 48,
     "metadata": {},
     "output_type": "execute_result"
    }
   ],
   "source": [
    "import numpy as np\n",
    "frame = pd.DataFrame(np.arange(9.).reshape((3, 3)), columns=['matematyka', 'informatyka','fizyka'],\n",
    "                  index=[2016,2017,2018])\n",
    "frame"
   ]
  },
  {
   "cell_type": "code",
   "execution_count": 49,
   "metadata": {},
   "outputs": [
    {
     "data": {
      "text/html": [
       "<div>\n",
       "<style scoped>\n",
       "    .dataframe tbody tr th:only-of-type {\n",
       "        vertical-align: middle;\n",
       "    }\n",
       "\n",
       "    .dataframe tbody tr th {\n",
       "        vertical-align: top;\n",
       "    }\n",
       "\n",
       "    .dataframe thead th {\n",
       "        text-align: right;\n",
       "    }\n",
       "</style>\n",
       "<table border=\"1\" class=\"dataframe\">\n",
       "  <thead>\n",
       "    <tr style=\"text-align: right;\">\n",
       "      <th></th>\n",
       "      <th>matematyka</th>\n",
       "      <th>informatyka</th>\n",
       "      <th>automatyka</th>\n",
       "    </tr>\n",
       "  </thead>\n",
       "  <tbody>\n",
       "    <tr>\n",
       "      <td>2015</td>\n",
       "      <td>0.0</td>\n",
       "      <td>1.0</td>\n",
       "      <td>2.0</td>\n",
       "    </tr>\n",
       "    <tr>\n",
       "      <td>2016</td>\n",
       "      <td>3.0</td>\n",
       "      <td>4.0</td>\n",
       "      <td>5.0</td>\n",
       "    </tr>\n",
       "    <tr>\n",
       "      <td>2017</td>\n",
       "      <td>6.0</td>\n",
       "      <td>7.0</td>\n",
       "      <td>8.0</td>\n",
       "    </tr>\n",
       "  </tbody>\n",
       "</table>\n",
       "</div>"
      ],
      "text/plain": [
       "      matematyka  informatyka  automatyka\n",
       "2015         0.0          1.0         2.0\n",
       "2016         3.0          4.0         5.0\n",
       "2017         6.0          7.0         8.0"
      ]
     },
     "execution_count": 49,
     "metadata": {},
     "output_type": "execute_result"
    }
   ],
   "source": [
    "frame_2 = pd.DataFrame(np.arange(9.).reshape((3, 3)), columns=['matematyka', 'informatyka','automatyka'],\n",
    "                  index=[2015,2016,2017])\n",
    "frame_2"
   ]
  },
  {
   "cell_type": "code",
   "execution_count": 50,
   "metadata": {},
   "outputs": [
    {
     "data": {
      "text/html": [
       "<div>\n",
       "<style scoped>\n",
       "    .dataframe tbody tr th:only-of-type {\n",
       "        vertical-align: middle;\n",
       "    }\n",
       "\n",
       "    .dataframe tbody tr th {\n",
       "        vertical-align: top;\n",
       "    }\n",
       "\n",
       "    .dataframe thead th {\n",
       "        text-align: right;\n",
       "    }\n",
       "</style>\n",
       "<table border=\"1\" class=\"dataframe\">\n",
       "  <thead>\n",
       "    <tr style=\"text-align: right;\">\n",
       "      <th></th>\n",
       "      <th>automatyka</th>\n",
       "      <th>fizyka</th>\n",
       "      <th>informatyka</th>\n",
       "      <th>matematyka</th>\n",
       "    </tr>\n",
       "  </thead>\n",
       "  <tbody>\n",
       "    <tr>\n",
       "      <td>2015</td>\n",
       "      <td>NaN</td>\n",
       "      <td>NaN</td>\n",
       "      <td>NaN</td>\n",
       "      <td>NaN</td>\n",
       "    </tr>\n",
       "    <tr>\n",
       "      <td>2016</td>\n",
       "      <td>NaN</td>\n",
       "      <td>NaN</td>\n",
       "      <td>5.0</td>\n",
       "      <td>3.0</td>\n",
       "    </tr>\n",
       "    <tr>\n",
       "      <td>2017</td>\n",
       "      <td>NaN</td>\n",
       "      <td>NaN</td>\n",
       "      <td>11.0</td>\n",
       "      <td>9.0</td>\n",
       "    </tr>\n",
       "    <tr>\n",
       "      <td>2018</td>\n",
       "      <td>NaN</td>\n",
       "      <td>NaN</td>\n",
       "      <td>NaN</td>\n",
       "      <td>NaN</td>\n",
       "    </tr>\n",
       "  </tbody>\n",
       "</table>\n",
       "</div>"
      ],
      "text/plain": [
       "      automatyka  fizyka  informatyka  matematyka\n",
       "2015         NaN     NaN          NaN         NaN\n",
       "2016         NaN     NaN          5.0         3.0\n",
       "2017         NaN     NaN         11.0         9.0\n",
       "2018         NaN     NaN          NaN         NaN"
      ]
     },
     "execution_count": 50,
     "metadata": {},
     "output_type": "execute_result"
    }
   ],
   "source": [
    "frame + frame_2"
   ]
  },
  {
   "cell_type": "code",
   "execution_count": 51,
   "metadata": {},
   "outputs": [
    {
     "data": {
      "text/html": [
       "<div>\n",
       "<style scoped>\n",
       "    .dataframe tbody tr th:only-of-type {\n",
       "        vertical-align: middle;\n",
       "    }\n",
       "\n",
       "    .dataframe tbody tr th {\n",
       "        vertical-align: top;\n",
       "    }\n",
       "\n",
       "    .dataframe thead th {\n",
       "        text-align: right;\n",
       "    }\n",
       "</style>\n",
       "<table border=\"1\" class=\"dataframe\">\n",
       "  <thead>\n",
       "    <tr style=\"text-align: right;\">\n",
       "      <th></th>\n",
       "      <th>automatyka</th>\n",
       "      <th>fizyka</th>\n",
       "      <th>informatyka</th>\n",
       "      <th>matematyka</th>\n",
       "    </tr>\n",
       "  </thead>\n",
       "  <tbody>\n",
       "    <tr>\n",
       "      <td>2015</td>\n",
       "      <td>NaN</td>\n",
       "      <td>NaN</td>\n",
       "      <td>NaN</td>\n",
       "      <td>NaN</td>\n",
       "    </tr>\n",
       "    <tr>\n",
       "      <td>2016</td>\n",
       "      <td>NaN</td>\n",
       "      <td>NaN</td>\n",
       "      <td>5.0</td>\n",
       "      <td>3.0</td>\n",
       "    </tr>\n",
       "    <tr>\n",
       "      <td>2017</td>\n",
       "      <td>NaN</td>\n",
       "      <td>NaN</td>\n",
       "      <td>11.0</td>\n",
       "      <td>9.0</td>\n",
       "    </tr>\n",
       "    <tr>\n",
       "      <td>2018</td>\n",
       "      <td>NaN</td>\n",
       "      <td>NaN</td>\n",
       "      <td>NaN</td>\n",
       "      <td>NaN</td>\n",
       "    </tr>\n",
       "  </tbody>\n",
       "</table>\n",
       "</div>"
      ],
      "text/plain": [
       "      automatyka  fizyka  informatyka  matematyka\n",
       "2015         NaN     NaN          NaN         NaN\n",
       "2016         NaN     NaN          5.0         3.0\n",
       "2017         NaN     NaN         11.0         9.0\n",
       "2018         NaN     NaN          NaN         NaN"
      ]
     },
     "execution_count": 51,
     "metadata": {},
     "output_type": "execute_result"
    }
   ],
   "source": [
    "frame.add(frame_2)"
   ]
  },
  {
   "cell_type": "code",
   "execution_count": 52,
   "metadata": {},
   "outputs": [
    {
     "data": {
      "text/html": [
       "<div>\n",
       "<style scoped>\n",
       "    .dataframe tbody tr th:only-of-type {\n",
       "        vertical-align: middle;\n",
       "    }\n",
       "\n",
       "    .dataframe tbody tr th {\n",
       "        vertical-align: top;\n",
       "    }\n",
       "\n",
       "    .dataframe thead th {\n",
       "        text-align: right;\n",
       "    }\n",
       "</style>\n",
       "<table border=\"1\" class=\"dataframe\">\n",
       "  <thead>\n",
       "    <tr style=\"text-align: right;\">\n",
       "      <th></th>\n",
       "      <th>automatyka</th>\n",
       "      <th>fizyka</th>\n",
       "      <th>informatyka</th>\n",
       "      <th>matematyka</th>\n",
       "    </tr>\n",
       "  </thead>\n",
       "  <tbody>\n",
       "    <tr>\n",
       "      <td>2015</td>\n",
       "      <td>2.0</td>\n",
       "      <td>NaN</td>\n",
       "      <td>1.0</td>\n",
       "      <td>0.0</td>\n",
       "    </tr>\n",
       "    <tr>\n",
       "      <td>2016</td>\n",
       "      <td>5.0</td>\n",
       "      <td>2.0</td>\n",
       "      <td>5.0</td>\n",
       "      <td>3.0</td>\n",
       "    </tr>\n",
       "    <tr>\n",
       "      <td>2017</td>\n",
       "      <td>8.0</td>\n",
       "      <td>5.0</td>\n",
       "      <td>11.0</td>\n",
       "      <td>9.0</td>\n",
       "    </tr>\n",
       "    <tr>\n",
       "      <td>2018</td>\n",
       "      <td>NaN</td>\n",
       "      <td>8.0</td>\n",
       "      <td>7.0</td>\n",
       "      <td>6.0</td>\n",
       "    </tr>\n",
       "  </tbody>\n",
       "</table>\n",
       "</div>"
      ],
      "text/plain": [
       "      automatyka  fizyka  informatyka  matematyka\n",
       "2015         2.0     NaN          1.0         0.0\n",
       "2016         5.0     2.0          5.0         3.0\n",
       "2017         8.0     5.0         11.0         9.0\n",
       "2018         NaN     8.0          7.0         6.0"
      ]
     },
     "execution_count": 52,
     "metadata": {},
     "output_type": "execute_result"
    }
   ],
   "source": [
    "frame.add(frame_2, fill_value=0)"
   ]
  },
  {
   "cell_type": "code",
   "execution_count": 53,
   "metadata": {},
   "outputs": [
    {
     "data": {
      "text/html": [
       "<div>\n",
       "<style scoped>\n",
       "    .dataframe tbody tr th:only-of-type {\n",
       "        vertical-align: middle;\n",
       "    }\n",
       "\n",
       "    .dataframe tbody tr th {\n",
       "        vertical-align: top;\n",
       "    }\n",
       "\n",
       "    .dataframe thead th {\n",
       "        text-align: right;\n",
       "    }\n",
       "</style>\n",
       "<table border=\"1\" class=\"dataframe\">\n",
       "  <thead>\n",
       "    <tr style=\"text-align: right;\">\n",
       "      <th></th>\n",
       "      <th>matematyka</th>\n",
       "      <th>informatyka</th>\n",
       "      <th>automatyka</th>\n",
       "    </tr>\n",
       "  </thead>\n",
       "  <tbody>\n",
       "    <tr>\n",
       "      <td>2015</td>\n",
       "      <td>0.000000</td>\n",
       "      <td>0.841471</td>\n",
       "      <td>0.909297</td>\n",
       "    </tr>\n",
       "    <tr>\n",
       "      <td>2016</td>\n",
       "      <td>0.141120</td>\n",
       "      <td>-0.756802</td>\n",
       "      <td>-0.958924</td>\n",
       "    </tr>\n",
       "    <tr>\n",
       "      <td>2017</td>\n",
       "      <td>-0.279415</td>\n",
       "      <td>0.656987</td>\n",
       "      <td>0.989358</td>\n",
       "    </tr>\n",
       "  </tbody>\n",
       "</table>\n",
       "</div>"
      ],
      "text/plain": [
       "      matematyka  informatyka  automatyka\n",
       "2015    0.000000     0.841471    0.909297\n",
       "2016    0.141120    -0.756802   -0.958924\n",
       "2017   -0.279415     0.656987    0.989358"
      ]
     },
     "execution_count": 53,
     "metadata": {},
     "output_type": "execute_result"
    }
   ],
   "source": [
    "import numpy as np\n",
    "np.sin(frame_2)"
   ]
  },
  {
   "cell_type": "code",
   "execution_count": 54,
   "metadata": {},
   "outputs": [
    {
     "data": {
      "text/html": [
       "<div>\n",
       "<style scoped>\n",
       "    .dataframe tbody tr th:only-of-type {\n",
       "        vertical-align: middle;\n",
       "    }\n",
       "\n",
       "    .dataframe tbody tr th {\n",
       "        vertical-align: top;\n",
       "    }\n",
       "\n",
       "    .dataframe thead th {\n",
       "        text-align: right;\n",
       "    }\n",
       "</style>\n",
       "<table border=\"1\" class=\"dataframe\">\n",
       "  <thead>\n",
       "    <tr style=\"text-align: right;\">\n",
       "      <th></th>\n",
       "      <th>matematyka</th>\n",
       "      <th>informatyka</th>\n",
       "      <th>automatyka</th>\n",
       "    </tr>\n",
       "  </thead>\n",
       "  <tbody>\n",
       "    <tr>\n",
       "      <td>count</td>\n",
       "      <td>3.0</td>\n",
       "      <td>3.0</td>\n",
       "      <td>3.0</td>\n",
       "    </tr>\n",
       "    <tr>\n",
       "      <td>mean</td>\n",
       "      <td>3.0</td>\n",
       "      <td>4.0</td>\n",
       "      <td>5.0</td>\n",
       "    </tr>\n",
       "    <tr>\n",
       "      <td>std</td>\n",
       "      <td>3.0</td>\n",
       "      <td>3.0</td>\n",
       "      <td>3.0</td>\n",
       "    </tr>\n",
       "    <tr>\n",
       "      <td>min</td>\n",
       "      <td>0.0</td>\n",
       "      <td>1.0</td>\n",
       "      <td>2.0</td>\n",
       "    </tr>\n",
       "    <tr>\n",
       "      <td>25%</td>\n",
       "      <td>1.5</td>\n",
       "      <td>2.5</td>\n",
       "      <td>3.5</td>\n",
       "    </tr>\n",
       "    <tr>\n",
       "      <td>50%</td>\n",
       "      <td>3.0</td>\n",
       "      <td>4.0</td>\n",
       "      <td>5.0</td>\n",
       "    </tr>\n",
       "    <tr>\n",
       "      <td>75%</td>\n",
       "      <td>4.5</td>\n",
       "      <td>5.5</td>\n",
       "      <td>6.5</td>\n",
       "    </tr>\n",
       "    <tr>\n",
       "      <td>max</td>\n",
       "      <td>6.0</td>\n",
       "      <td>7.0</td>\n",
       "      <td>8.0</td>\n",
       "    </tr>\n",
       "  </tbody>\n",
       "</table>\n",
       "</div>"
      ],
      "text/plain": [
       "       matematyka  informatyka  automatyka\n",
       "count         3.0          3.0         3.0\n",
       "mean          3.0          4.0         5.0\n",
       "std           3.0          3.0         3.0\n",
       "min           0.0          1.0         2.0\n",
       "25%           1.5          2.5         3.5\n",
       "50%           3.0          4.0         5.0\n",
       "75%           4.5          5.5         6.5\n",
       "max           6.0          7.0         8.0"
      ]
     },
     "execution_count": 54,
     "metadata": {},
     "output_type": "execute_result"
    }
   ],
   "source": [
    "frame_2.describe()"
   ]
  },
  {
   "cell_type": "code",
   "execution_count": 55,
   "metadata": {},
   "outputs": [
    {
     "data": {
      "text/html": [
       "<div>\n",
       "<style scoped>\n",
       "    .dataframe tbody tr th:only-of-type {\n",
       "        vertical-align: middle;\n",
       "    }\n",
       "\n",
       "    .dataframe tbody tr th {\n",
       "        vertical-align: top;\n",
       "    }\n",
       "\n",
       "    .dataframe thead th {\n",
       "        text-align: right;\n",
       "    }\n",
       "</style>\n",
       "<table border=\"1\" class=\"dataframe\">\n",
       "  <thead>\n",
       "    <tr style=\"text-align: right;\">\n",
       "      <th></th>\n",
       "      <th>2015</th>\n",
       "      <th>2016</th>\n",
       "      <th>2017</th>\n",
       "    </tr>\n",
       "  </thead>\n",
       "  <tbody>\n",
       "    <tr>\n",
       "      <td>count</td>\n",
       "      <td>3.0</td>\n",
       "      <td>3.0</td>\n",
       "      <td>3.0</td>\n",
       "    </tr>\n",
       "    <tr>\n",
       "      <td>mean</td>\n",
       "      <td>1.0</td>\n",
       "      <td>4.0</td>\n",
       "      <td>7.0</td>\n",
       "    </tr>\n",
       "    <tr>\n",
       "      <td>std</td>\n",
       "      <td>1.0</td>\n",
       "      <td>1.0</td>\n",
       "      <td>1.0</td>\n",
       "    </tr>\n",
       "    <tr>\n",
       "      <td>min</td>\n",
       "      <td>0.0</td>\n",
       "      <td>3.0</td>\n",
       "      <td>6.0</td>\n",
       "    </tr>\n",
       "    <tr>\n",
       "      <td>25%</td>\n",
       "      <td>0.5</td>\n",
       "      <td>3.5</td>\n",
       "      <td>6.5</td>\n",
       "    </tr>\n",
       "    <tr>\n",
       "      <td>50%</td>\n",
       "      <td>1.0</td>\n",
       "      <td>4.0</td>\n",
       "      <td>7.0</td>\n",
       "    </tr>\n",
       "    <tr>\n",
       "      <td>75%</td>\n",
       "      <td>1.5</td>\n",
       "      <td>4.5</td>\n",
       "      <td>7.5</td>\n",
       "    </tr>\n",
       "    <tr>\n",
       "      <td>max</td>\n",
       "      <td>2.0</td>\n",
       "      <td>5.0</td>\n",
       "      <td>8.0</td>\n",
       "    </tr>\n",
       "  </tbody>\n",
       "</table>\n",
       "</div>"
      ],
      "text/plain": [
       "       2015  2016  2017\n",
       "count   3.0   3.0   3.0\n",
       "mean    1.0   4.0   7.0\n",
       "std     1.0   1.0   1.0\n",
       "min     0.0   3.0   6.0\n",
       "25%     0.5   3.5   6.5\n",
       "50%     1.0   4.0   7.0\n",
       "75%     1.5   4.5   7.5\n",
       "max     2.0   5.0   8.0"
      ]
     },
     "execution_count": 55,
     "metadata": {},
     "output_type": "execute_result"
    }
   ],
   "source": [
    "frame_2.T.describe()"
   ]
  },
  {
   "cell_type": "markdown",
   "metadata": {},
   "source": [
    "**Metoda** | **Opis**\n",
    ":---:|:---:\n",
    "count |ilość nie-NaN-ów \n",
    "describe | podstawowe statystyki\n",
    "min, max | minimum i maximum \n",
    "argmin, argmax | znajduje indeks (w postaci liczby) wartości minimum lub maximum \n",
    "sum | suma\n",
    "mean | średnia\n",
    "median | mediana\n",
    "var | wariancja\n",
    "std | odchylenie standardowe\n",
    "skew | skosność (3. moment centralny) \n",
    "kurt | kurtoza (4. moment centralny) \n",
    "cumsum | skumulowana suma\n",
    "diff | indeks (w szeregach czasowych)\n",
    "pct_change | zmiana procentowa"
   ]
  },
  {
   "cell_type": "code",
   "execution_count": 56,
   "metadata": {},
   "outputs": [
    {
     "name": "stdout",
     "output_type": "stream",
     "text": [
      "      matematyka  informatyka  automatyka\n",
      "2015         0.0          1.0         2.0\n",
      "2016         3.0          4.0         5.0\n",
      "2017         6.0          7.0         8.0\n"
     ]
    },
    {
     "data": {
      "text/html": [
       "<div>\n",
       "<style scoped>\n",
       "    .dataframe tbody tr th:only-of-type {\n",
       "        vertical-align: middle;\n",
       "    }\n",
       "\n",
       "    .dataframe tbody tr th {\n",
       "        vertical-align: top;\n",
       "    }\n",
       "\n",
       "    .dataframe thead th {\n",
       "        text-align: right;\n",
       "    }\n",
       "</style>\n",
       "<table border=\"1\" class=\"dataframe\">\n",
       "  <thead>\n",
       "    <tr style=\"text-align: right;\">\n",
       "      <th></th>\n",
       "      <th>matematyka</th>\n",
       "      <th>informatyka</th>\n",
       "      <th>automatyka</th>\n",
       "    </tr>\n",
       "  </thead>\n",
       "  <tbody>\n",
       "    <tr>\n",
       "      <td>matematyka</td>\n",
       "      <td>1.0</td>\n",
       "      <td>1.0</td>\n",
       "      <td>1.0</td>\n",
       "    </tr>\n",
       "    <tr>\n",
       "      <td>informatyka</td>\n",
       "      <td>1.0</td>\n",
       "      <td>1.0</td>\n",
       "      <td>1.0</td>\n",
       "    </tr>\n",
       "    <tr>\n",
       "      <td>automatyka</td>\n",
       "      <td>1.0</td>\n",
       "      <td>1.0</td>\n",
       "      <td>1.0</td>\n",
       "    </tr>\n",
       "  </tbody>\n",
       "</table>\n",
       "</div>"
      ],
      "text/plain": [
       "             matematyka  informatyka  automatyka\n",
       "matematyka          1.0          1.0         1.0\n",
       "informatyka         1.0          1.0         1.0\n",
       "automatyka          1.0          1.0         1.0"
      ]
     },
     "execution_count": 56,
     "metadata": {},
     "output_type": "execute_result"
    }
   ],
   "source": [
    "print(frame_2)\n",
    "\n",
    "frame_2.corr()"
   ]
  },
  {
   "cell_type": "code",
   "execution_count": 57,
   "metadata": {},
   "outputs": [
    {
     "data": {
      "text/plain": [
       "1.0"
      ]
     },
     "execution_count": 57,
     "metadata": {},
     "output_type": "execute_result"
    }
   ],
   "source": [
    "frame_2.matematyka.corr(frame_2.informatyka)"
   ]
  },
  {
   "cell_type": "code",
   "execution_count": 58,
   "metadata": {},
   "outputs": [
    {
     "name": "stdout",
     "output_type": "stream",
     "text": [
      "      matematyka  informatyka  automatyka\n",
      "2015         0.0          1.0         2.0\n",
      "2016         3.0          4.0         5.0\n",
      "2017         6.0          7.0         8.0\n"
     ]
    },
    {
     "data": {
      "text/html": [
       "<div>\n",
       "<style scoped>\n",
       "    .dataframe tbody tr th:only-of-type {\n",
       "        vertical-align: middle;\n",
       "    }\n",
       "\n",
       "    .dataframe tbody tr th {\n",
       "        vertical-align: top;\n",
       "    }\n",
       "\n",
       "    .dataframe thead th {\n",
       "        text-align: right;\n",
       "    }\n",
       "</style>\n",
       "<table border=\"1\" class=\"dataframe\">\n",
       "  <thead>\n",
       "    <tr style=\"text-align: right;\">\n",
       "      <th></th>\n",
       "      <th>matematyka</th>\n",
       "      <th>informatyka</th>\n",
       "      <th>automatyka</th>\n",
       "    </tr>\n",
       "  </thead>\n",
       "  <tbody>\n",
       "    <tr>\n",
       "      <td>matematyka</td>\n",
       "      <td>9.0</td>\n",
       "      <td>9.0</td>\n",
       "      <td>9.0</td>\n",
       "    </tr>\n",
       "    <tr>\n",
       "      <td>informatyka</td>\n",
       "      <td>9.0</td>\n",
       "      <td>9.0</td>\n",
       "      <td>9.0</td>\n",
       "    </tr>\n",
       "    <tr>\n",
       "      <td>automatyka</td>\n",
       "      <td>9.0</td>\n",
       "      <td>9.0</td>\n",
       "      <td>9.0</td>\n",
       "    </tr>\n",
       "  </tbody>\n",
       "</table>\n",
       "</div>"
      ],
      "text/plain": [
       "             matematyka  informatyka  automatyka\n",
       "matematyka          9.0          9.0         9.0\n",
       "informatyka         9.0          9.0         9.0\n",
       "automatyka          9.0          9.0         9.0"
      ]
     },
     "execution_count": 58,
     "metadata": {},
     "output_type": "execute_result"
    }
   ],
   "source": [
    "print(frame_2)\n",
    "\n",
    "frame_2.cov()"
   ]
  },
  {
   "cell_type": "code",
   "execution_count": 59,
   "metadata": {},
   "outputs": [
    {
     "data": {
      "text/plain": [
       "9.0"
      ]
     },
     "execution_count": 59,
     "metadata": {},
     "output_type": "execute_result"
    }
   ],
   "source": [
    "frame_2.matematyka.cov(frame_2.informatyka)"
   ]
  },
  {
   "cell_type": "code",
   "execution_count": 60,
   "metadata": {},
   "outputs": [
    {
     "name": "stdout",
     "output_type": "stream",
     "text": [
      "      matematyka  informatyka  automatyka\n",
      "2015         0.0          1.0         2.0\n",
      "2016         3.0          4.0         5.0\n",
      "2017         6.0          7.0         8.0\n"
     ]
    },
    {
     "data": {
      "text/plain": [
       "matematyka     6.0\n",
       "informatyka    6.0\n",
       "automatyka     6.0\n",
       "dtype: float64"
      ]
     },
     "execution_count": 60,
     "metadata": {},
     "output_type": "execute_result"
    }
   ],
   "source": [
    "print(frame_2)\n",
    "\n",
    "f = lambda x: x.max() - x.min()\n",
    "\n",
    "frame_2.apply(f)"
   ]
  },
  {
   "cell_type": "code",
   "execution_count": 61,
   "metadata": {},
   "outputs": [
    {
     "data": {
      "text/plain": [
       "2015    2.0\n",
       "2016    2.0\n",
       "2017    2.0\n",
       "dtype: float64"
      ]
     },
     "execution_count": 61,
     "metadata": {},
     "output_type": "execute_result"
    }
   ],
   "source": [
    "frame_2.apply(f, axis=1)"
   ]
  },
  {
   "cell_type": "markdown",
   "metadata": {},
   "source": [
    "##### Brakujące dane"
   ]
  },
  {
   "cell_type": "code",
   "execution_count": 62,
   "metadata": {},
   "outputs": [
    {
     "data": {
      "text/plain": [
       "0    1.0\n",
       "1    NaN\n",
       "2    2.0\n",
       "3    3.0\n",
       "4    NaN\n",
       "dtype: float64"
      ]
     },
     "execution_count": 62,
     "metadata": {},
     "output_type": "execute_result"
    }
   ],
   "source": [
    "seria = pd.Series([1, np.nan, 2, 3, np.nan])\n",
    "seria"
   ]
  },
  {
   "cell_type": "code",
   "execution_count": 63,
   "metadata": {},
   "outputs": [
    {
     "data": {
      "text/plain": [
       "0    False\n",
       "1     True\n",
       "2    False\n",
       "3    False\n",
       "4     True\n",
       "dtype: bool"
      ]
     },
     "execution_count": 63,
     "metadata": {},
     "output_type": "execute_result"
    }
   ],
   "source": [
    "seria.isnull()"
   ]
  },
  {
   "cell_type": "code",
   "execution_count": 64,
   "metadata": {},
   "outputs": [
    {
     "data": {
      "text/plain": [
       "3"
      ]
     },
     "execution_count": 64,
     "metadata": {},
     "output_type": "execute_result"
    }
   ],
   "source": [
    "seria.count()"
   ]
  },
  {
   "cell_type": "code",
   "execution_count": 65,
   "metadata": {},
   "outputs": [
    {
     "data": {
      "text/plain": [
       "0    1.0\n",
       "2    2.0\n",
       "3    3.0\n",
       "dtype: float64"
      ]
     },
     "execution_count": 65,
     "metadata": {},
     "output_type": "execute_result"
    }
   ],
   "source": [
    "seria.dropna()"
   ]
  },
  {
   "cell_type": "code",
   "execution_count": 66,
   "metadata": {},
   "outputs": [
    {
     "data": {
      "text/html": [
       "<div>\n",
       "<style scoped>\n",
       "    .dataframe tbody tr th:only-of-type {\n",
       "        vertical-align: middle;\n",
       "    }\n",
       "\n",
       "    .dataframe tbody tr th {\n",
       "        vertical-align: top;\n",
       "    }\n",
       "\n",
       "    .dataframe thead th {\n",
       "        text-align: right;\n",
       "    }\n",
       "</style>\n",
       "<table border=\"1\" class=\"dataframe\">\n",
       "  <thead>\n",
       "    <tr style=\"text-align: right;\">\n",
       "      <th></th>\n",
       "      <th>0</th>\n",
       "      <th>1</th>\n",
       "      <th>2</th>\n",
       "    </tr>\n",
       "  </thead>\n",
       "  <tbody>\n",
       "    <tr>\n",
       "      <td>0</td>\n",
       "      <td>1.0</td>\n",
       "      <td>2.0</td>\n",
       "      <td>3.0</td>\n",
       "    </tr>\n",
       "    <tr>\n",
       "      <td>1</td>\n",
       "      <td>1.0</td>\n",
       "      <td>NaN</td>\n",
       "      <td>2.0</td>\n",
       "    </tr>\n",
       "    <tr>\n",
       "      <td>2</td>\n",
       "      <td>NaN</td>\n",
       "      <td>NaN</td>\n",
       "      <td>NaN</td>\n",
       "    </tr>\n",
       "    <tr>\n",
       "      <td>3</td>\n",
       "      <td>NaN</td>\n",
       "      <td>2.0</td>\n",
       "      <td>3.0</td>\n",
       "    </tr>\n",
       "  </tbody>\n",
       "</table>\n",
       "</div>"
      ],
      "text/plain": [
       "     0    1    2\n",
       "0  1.0  2.0  3.0\n",
       "1  1.0  NaN  2.0\n",
       "2  NaN  NaN  NaN\n",
       "3  NaN  2.0  3.0"
      ]
     },
     "execution_count": 66,
     "metadata": {},
     "output_type": "execute_result"
    }
   ],
   "source": [
    "from numpy import nan as NA\n",
    "dane = pd.DataFrame([[1., 2, 3.], [1., NA, 2],\n",
    "                    [NA, NA, NA], [NA, 2, 3.]])\n",
    "dane"
   ]
  },
  {
   "cell_type": "code",
   "execution_count": 67,
   "metadata": {},
   "outputs": [
    {
     "data": {
      "text/html": [
       "<div>\n",
       "<style scoped>\n",
       "    .dataframe tbody tr th:only-of-type {\n",
       "        vertical-align: middle;\n",
       "    }\n",
       "\n",
       "    .dataframe tbody tr th {\n",
       "        vertical-align: top;\n",
       "    }\n",
       "\n",
       "    .dataframe thead th {\n",
       "        text-align: right;\n",
       "    }\n",
       "</style>\n",
       "<table border=\"1\" class=\"dataframe\">\n",
       "  <thead>\n",
       "    <tr style=\"text-align: right;\">\n",
       "      <th></th>\n",
       "      <th>0</th>\n",
       "      <th>1</th>\n",
       "      <th>2</th>\n",
       "    </tr>\n",
       "  </thead>\n",
       "  <tbody>\n",
       "    <tr>\n",
       "      <td>0</td>\n",
       "      <td>1.0</td>\n",
       "      <td>2.0</td>\n",
       "      <td>3.0</td>\n",
       "    </tr>\n",
       "  </tbody>\n",
       "</table>\n",
       "</div>"
      ],
      "text/plain": [
       "     0    1    2\n",
       "0  1.0  2.0  3.0"
      ]
     },
     "execution_count": 67,
     "metadata": {},
     "output_type": "execute_result"
    }
   ],
   "source": [
    "dane.dropna()"
   ]
  },
  {
   "cell_type": "code",
   "execution_count": 68,
   "metadata": {},
   "outputs": [
    {
     "data": {
      "text/plain": [
       "0    2\n",
       "1    2\n",
       "2    3\n",
       "dtype: int64"
      ]
     },
     "execution_count": 68,
     "metadata": {},
     "output_type": "execute_result"
    }
   ],
   "source": [
    "dane.count()"
   ]
  },
  {
   "cell_type": "code",
   "execution_count": 69,
   "metadata": {},
   "outputs": [
    {
     "data": {
      "text/html": [
       "<div>\n",
       "<style scoped>\n",
       "    .dataframe tbody tr th:only-of-type {\n",
       "        vertical-align: middle;\n",
       "    }\n",
       "\n",
       "    .dataframe tbody tr th {\n",
       "        vertical-align: top;\n",
       "    }\n",
       "\n",
       "    .dataframe thead th {\n",
       "        text-align: right;\n",
       "    }\n",
       "</style>\n",
       "<table border=\"1\" class=\"dataframe\">\n",
       "  <thead>\n",
       "    <tr style=\"text-align: right;\">\n",
       "      <th></th>\n",
       "      <th>0</th>\n",
       "      <th>1</th>\n",
       "      <th>2</th>\n",
       "    </tr>\n",
       "  </thead>\n",
       "  <tbody>\n",
       "    <tr>\n",
       "      <td>0</td>\n",
       "      <td>1.0</td>\n",
       "      <td>2.0</td>\n",
       "      <td>3.0</td>\n",
       "    </tr>\n",
       "    <tr>\n",
       "      <td>1</td>\n",
       "      <td>1.0</td>\n",
       "      <td>NaN</td>\n",
       "      <td>2.0</td>\n",
       "    </tr>\n",
       "    <tr>\n",
       "      <td>3</td>\n",
       "      <td>NaN</td>\n",
       "      <td>2.0</td>\n",
       "      <td>3.0</td>\n",
       "    </tr>\n",
       "  </tbody>\n",
       "</table>\n",
       "</div>"
      ],
      "text/plain": [
       "     0    1    2\n",
       "0  1.0  2.0  3.0\n",
       "1  1.0  NaN  2.0\n",
       "3  NaN  2.0  3.0"
      ]
     },
     "execution_count": 69,
     "metadata": {},
     "output_type": "execute_result"
    }
   ],
   "source": [
    "dane.dropna(how='all')"
   ]
  },
  {
   "cell_type": "code",
   "execution_count": 70,
   "metadata": {},
   "outputs": [
    {
     "name": "stdout",
     "output_type": "stream",
     "text": [
      "0    1.0\n",
      "1    NaN\n",
      "2    2.0\n",
      "3    3.0\n",
      "4    NaN\n",
      "dtype: float64\n"
     ]
    },
    {
     "data": {
      "text/plain": [
       "0    1.0\n",
       "1    1.0\n",
       "2    2.0\n",
       "3    3.0\n",
       "4    1.0\n",
       "dtype: float64"
      ]
     },
     "execution_count": 70,
     "metadata": {},
     "output_type": "execute_result"
    }
   ],
   "source": [
    "seria = pd.Series([1, np.nan, 2, 3, np.nan])\n",
    "print(seria)\n",
    "\n",
    "seria_2 = seria.fillna(1)\n",
    "seria_2"
   ]
  },
  {
   "cell_type": "code",
   "execution_count": 71,
   "metadata": {},
   "outputs": [
    {
     "name": "stdout",
     "output_type": "stream",
     "text": [
      "     0    1    2\n",
      "0  1.0  2.0  3.0\n",
      "1  1.0  NaN  2.0\n",
      "2  NaN  NaN  NaN\n",
      "3  NaN  2.0  3.0\n"
     ]
    },
    {
     "data": {
      "text/html": [
       "<div>\n",
       "<style scoped>\n",
       "    .dataframe tbody tr th:only-of-type {\n",
       "        vertical-align: middle;\n",
       "    }\n",
       "\n",
       "    .dataframe tbody tr th {\n",
       "        vertical-align: top;\n",
       "    }\n",
       "\n",
       "    .dataframe thead th {\n",
       "        text-align: right;\n",
       "    }\n",
       "</style>\n",
       "<table border=\"1\" class=\"dataframe\">\n",
       "  <thead>\n",
       "    <tr style=\"text-align: right;\">\n",
       "      <th></th>\n",
       "      <th>0</th>\n",
       "      <th>1</th>\n",
       "      <th>2</th>\n",
       "    </tr>\n",
       "  </thead>\n",
       "  <tbody>\n",
       "    <tr>\n",
       "      <td>0</td>\n",
       "      <td>1.0</td>\n",
       "      <td>2.0</td>\n",
       "      <td>3.0</td>\n",
       "    </tr>\n",
       "    <tr>\n",
       "      <td>1</td>\n",
       "      <td>1.0</td>\n",
       "      <td>1.0</td>\n",
       "      <td>2.0</td>\n",
       "    </tr>\n",
       "    <tr>\n",
       "      <td>2</td>\n",
       "      <td>1.0</td>\n",
       "      <td>1.0</td>\n",
       "      <td>1.0</td>\n",
       "    </tr>\n",
       "    <tr>\n",
       "      <td>3</td>\n",
       "      <td>1.0</td>\n",
       "      <td>2.0</td>\n",
       "      <td>3.0</td>\n",
       "    </tr>\n",
       "  </tbody>\n",
       "</table>\n",
       "</div>"
      ],
      "text/plain": [
       "     0    1    2\n",
       "0  1.0  2.0  3.0\n",
       "1  1.0  1.0  2.0\n",
       "2  1.0  1.0  1.0\n",
       "3  1.0  2.0  3.0"
      ]
     },
     "execution_count": 71,
     "metadata": {},
     "output_type": "execute_result"
    }
   ],
   "source": [
    "dane = pd.DataFrame([[1., 2, 3.], [1., NA, 2],\n",
    "                    [NA, NA, NA], [NA, 2, 3.]])\n",
    "print(dane)\n",
    "\n",
    "dane.fillna(1)"
   ]
  },
  {
   "cell_type": "code",
   "execution_count": 72,
   "metadata": {},
   "outputs": [
    {
     "data": {
      "text/html": [
       "<div>\n",
       "<style scoped>\n",
       "    .dataframe tbody tr th:only-of-type {\n",
       "        vertical-align: middle;\n",
       "    }\n",
       "\n",
       "    .dataframe tbody tr th {\n",
       "        vertical-align: top;\n",
       "    }\n",
       "\n",
       "    .dataframe thead th {\n",
       "        text-align: right;\n",
       "    }\n",
       "</style>\n",
       "<table border=\"1\" class=\"dataframe\">\n",
       "  <thead>\n",
       "    <tr style=\"text-align: right;\">\n",
       "      <th></th>\n",
       "      <th>0</th>\n",
       "      <th>1</th>\n",
       "      <th>2</th>\n",
       "    </tr>\n",
       "  </thead>\n",
       "  <tbody>\n",
       "    <tr>\n",
       "      <td>0</td>\n",
       "      <td>1.0</td>\n",
       "      <td>2.0</td>\n",
       "      <td>3.0</td>\n",
       "    </tr>\n",
       "    <tr>\n",
       "      <td>1</td>\n",
       "      <td>1.0</td>\n",
       "      <td>NaN</td>\n",
       "      <td>2.0</td>\n",
       "    </tr>\n",
       "    <tr>\n",
       "      <td>2</td>\n",
       "      <td>2.0</td>\n",
       "      <td>NaN</td>\n",
       "      <td>1.0</td>\n",
       "    </tr>\n",
       "    <tr>\n",
       "      <td>3</td>\n",
       "      <td>2.0</td>\n",
       "      <td>2.0</td>\n",
       "      <td>3.0</td>\n",
       "    </tr>\n",
       "  </tbody>\n",
       "</table>\n",
       "</div>"
      ],
      "text/plain": [
       "     0    1    2\n",
       "0  1.0  2.0  3.0\n",
       "1  1.0  NaN  2.0\n",
       "2  2.0  NaN  1.0\n",
       "3  2.0  2.0  3.0"
      ]
     },
     "execution_count": 72,
     "metadata": {},
     "output_type": "execute_result"
    }
   ],
   "source": [
    "dane.fillna({0:2, 2:1})"
   ]
  },
  {
   "cell_type": "markdown",
   "metadata": {},
   "source": [
    "##### Filtrowanie danych"
   ]
  },
  {
   "cell_type": "code",
   "execution_count": 73,
   "metadata": {},
   "outputs": [
    {
     "data": {
      "text/html": [
       "<div>\n",
       "<style scoped>\n",
       "    .dataframe tbody tr th:only-of-type {\n",
       "        vertical-align: middle;\n",
       "    }\n",
       "\n",
       "    .dataframe tbody tr th {\n",
       "        vertical-align: top;\n",
       "    }\n",
       "\n",
       "    .dataframe thead th {\n",
       "        text-align: right;\n",
       "    }\n",
       "</style>\n",
       "<table border=\"1\" class=\"dataframe\">\n",
       "  <thead>\n",
       "    <tr style=\"text-align: right;\">\n",
       "      <th></th>\n",
       "      <th>matematyka</th>\n",
       "      <th>informatyka</th>\n",
       "    </tr>\n",
       "  </thead>\n",
       "  <tbody>\n",
       "    <tr>\n",
       "      <td>2017</td>\n",
       "      <td>230</td>\n",
       "      <td>130</td>\n",
       "    </tr>\n",
       "    <tr>\n",
       "      <td>2018</td>\n",
       "      <td>275</td>\n",
       "      <td>175</td>\n",
       "    </tr>\n",
       "    <tr>\n",
       "      <td>2019</td>\n",
       "      <td>250</td>\n",
       "      <td>230</td>\n",
       "    </tr>\n",
       "  </tbody>\n",
       "</table>\n",
       "</div>"
      ],
      "text/plain": [
       "      matematyka  informatyka\n",
       "2017         230          130\n",
       "2018         275          175\n",
       "2019         250          230"
      ]
     },
     "execution_count": 73,
     "metadata": {},
     "output_type": "execute_result"
    }
   ],
   "source": [
    "dane = {'matematyka': {2019: 250, 2018: 275, 2017: 230},\n",
    " 'informatyka': {2019: 230, 2018: 175, 2017: 130}}\n",
    "\n",
    "frame = pd.DataFrame(dane, columns=['matematyka', 'informatyka'],\n",
    "                  index=[2017,2018,2019])\n",
    "frame"
   ]
  },
  {
   "cell_type": "code",
   "execution_count": 74,
   "metadata": {},
   "outputs": [
    {
     "data": {
      "text/plain": [
       "2018    275\n",
       "2019    250\n",
       "Name: matematyka, dtype: int64"
      ]
     },
     "execution_count": 74,
     "metadata": {},
     "output_type": "execute_result"
    }
   ],
   "source": [
    "frame.matematyka[frame.matematyka > 249]"
   ]
  },
  {
   "cell_type": "code",
   "execution_count": 76,
   "metadata": {},
   "outputs": [
    {
     "data": {
      "text/plain": [
       "2017    False\n",
       "2018     True\n",
       "2019     True\n",
       "Name: matematyka, dtype: bool"
      ]
     },
     "execution_count": 76,
     "metadata": {},
     "output_type": "execute_result"
    }
   ],
   "source": [
    "frame.matematyka > 249"
   ]
  },
  {
   "cell_type": "code",
   "execution_count": 81,
   "metadata": {},
   "outputs": [
    {
     "data": {
      "text/plain": [
       "2019    250\n",
       "Name: matematyka, dtype: int64"
      ]
     },
     "execution_count": 81,
     "metadata": {},
     "output_type": "execute_result"
    }
   ],
   "source": [
    "frame.matematyka[(frame.matematyka > 249) & (frame.matematyka < 251)]"
   ]
  },
  {
   "cell_type": "code",
   "execution_count": 84,
   "metadata": {},
   "outputs": [
    {
     "data": {
      "text/plain": [
       "2017     True\n",
       "2018    False\n",
       "2019     True\n",
       "Name: matematyka, dtype: bool"
      ]
     },
     "execution_count": 84,
     "metadata": {},
     "output_type": "execute_result"
    }
   ],
   "source": [
    "frame.matematyka.isin([230,250])"
   ]
  },
  {
   "cell_type": "code",
   "execution_count": 87,
   "metadata": {},
   "outputs": [
    {
     "data": {
      "text/html": [
       "<div>\n",
       "<style scoped>\n",
       "    .dataframe tbody tr th:only-of-type {\n",
       "        vertical-align: middle;\n",
       "    }\n",
       "\n",
       "    .dataframe tbody tr th {\n",
       "        vertical-align: top;\n",
       "    }\n",
       "\n",
       "    .dataframe thead th {\n",
       "        text-align: right;\n",
       "    }\n",
       "</style>\n",
       "<table border=\"1\" class=\"dataframe\">\n",
       "  <thead>\n",
       "    <tr style=\"text-align: right;\">\n",
       "      <th></th>\n",
       "      <th>matematyka</th>\n",
       "      <th>informatyka</th>\n",
       "    </tr>\n",
       "  </thead>\n",
       "  <tbody>\n",
       "    <tr>\n",
       "      <td>2018</td>\n",
       "      <td>275</td>\n",
       "      <td>175</td>\n",
       "    </tr>\n",
       "    <tr>\n",
       "      <td>2019</td>\n",
       "      <td>250</td>\n",
       "      <td>230</td>\n",
       "    </tr>\n",
       "  </tbody>\n",
       "</table>\n",
       "</div>"
      ],
      "text/plain": [
       "      matematyka  informatyka\n",
       "2018         275          175\n",
       "2019         250          230"
      ]
     },
     "execution_count": 87,
     "metadata": {},
     "output_type": "execute_result"
    }
   ],
   "source": [
    "frame.loc[frame.matematyka > 249]"
   ]
  },
  {
   "cell_type": "markdown",
   "metadata": {
    "collapsed": true
   },
   "source": [
    "### Formaty plików"
   ]
  },
  {
   "cell_type": "markdown",
   "metadata": {},
   "source": [
    "**CSV** (ang. comma-separated values) – format przechowywania danych w plikach tekstowych\n"
   ]
  },
  {
   "cell_type": "code",
   "execution_count": 1,
   "metadata": {},
   "outputs": [
    {
     "data": {
      "text/html": [
       "<div>\n",
       "<style scoped>\n",
       "    .dataframe tbody tr th:only-of-type {\n",
       "        vertical-align: middle;\n",
       "    }\n",
       "\n",
       "    .dataframe tbody tr th {\n",
       "        vertical-align: top;\n",
       "    }\n",
       "\n",
       "    .dataframe thead th {\n",
       "        text-align: right;\n",
       "    }\n",
       "</style>\n",
       "<table border=\"1\" class=\"dataframe\">\n",
       "  <thead>\n",
       "    <tr style=\"text-align: right;\">\n",
       "      <th></th>\n",
       "      <th>Kod</th>\n",
       "      <th>Nazwa</th>\n",
       "      <th>grunty orne ogółem;2017;[zł]</th>\n",
       "      <th>grunty orne dobre (klasy I, II, IIIa);2017;[zł]</th>\n",
       "      <th>grunty orne średnie (klasy IIIb, IV);2017;[zł]</th>\n",
       "      <th>grunty orne słabe (klasy V, VI);2017;[zł]</th>\n",
       "      <th>łąki ogółem;2017;[zł]</th>\n",
       "      <th>łąki dobre;2017;[zł]</th>\n",
       "      <th>łąki słabe;2017;[zł]</th>\n",
       "    </tr>\n",
       "  </thead>\n",
       "  <tbody>\n",
       "    <tr>\n",
       "      <td>0</td>\n",
       "      <td>0</td>\n",
       "      <td>POLSKA</td>\n",
       "      <td>41288</td>\n",
       "      <td>52586</td>\n",
       "      <td>42196</td>\n",
       "      <td>29277</td>\n",
       "      <td>25681</td>\n",
       "      <td>27655</td>\n",
       "      <td>22320</td>\n",
       "    </tr>\n",
       "    <tr>\n",
       "      <td>1</td>\n",
       "      <td>200000</td>\n",
       "      <td>DOLNOŚLĄSKIE</td>\n",
       "      <td>36591</td>\n",
       "      <td>47622</td>\n",
       "      <td>36422</td>\n",
       "      <td>26295</td>\n",
       "      <td>29949</td>\n",
       "      <td>31636</td>\n",
       "      <td>20666</td>\n",
       "    </tr>\n",
       "    <tr>\n",
       "      <td>2</td>\n",
       "      <td>400000</td>\n",
       "      <td>KUJAWSKO-POMORSKIE</td>\n",
       "      <td>55784</td>\n",
       "      <td>66686</td>\n",
       "      <td>55657</td>\n",
       "      <td>37706</td>\n",
       "      <td>33374</td>\n",
       "      <td>35828</td>\n",
       "      <td>27944</td>\n",
       "    </tr>\n",
       "    <tr>\n",
       "      <td>3</td>\n",
       "      <td>600000</td>\n",
       "      <td>LUBELSKIE</td>\n",
       "      <td>30680</td>\n",
       "      <td>43869</td>\n",
       "      <td>30297</td>\n",
       "      <td>19315</td>\n",
       "      <td>14607</td>\n",
       "      <td>15898</td>\n",
       "      <td>12166</td>\n",
       "    </tr>\n",
       "    <tr>\n",
       "      <td>4</td>\n",
       "      <td>800000</td>\n",
       "      <td>LUBUSKIE</td>\n",
       "      <td>28800</td>\n",
       "      <td>41961</td>\n",
       "      <td>30347</td>\n",
       "      <td>24100</td>\n",
       "      <td>19755</td>\n",
       "      <td>20290</td>\n",
       "      <td>19000</td>\n",
       "    </tr>\n",
       "  </tbody>\n",
       "</table>\n",
       "</div>"
      ],
      "text/plain": [
       "      Kod               Nazwa  grunty orne ogółem;2017;[zł]  \\\n",
       "0       0              POLSKA                         41288   \n",
       "1  200000        DOLNOŚLĄSKIE                         36591   \n",
       "2  400000  KUJAWSKO-POMORSKIE                         55784   \n",
       "3  600000           LUBELSKIE                         30680   \n",
       "4  800000            LUBUSKIE                         28800   \n",
       "\n",
       "   grunty orne dobre (klasy I, II, IIIa);2017;[zł]  \\\n",
       "0                                            52586   \n",
       "1                                            47622   \n",
       "2                                            66686   \n",
       "3                                            43869   \n",
       "4                                            41961   \n",
       "\n",
       "   grunty orne średnie (klasy IIIb, IV);2017;[zł]  \\\n",
       "0                                           42196   \n",
       "1                                           36422   \n",
       "2                                           55657   \n",
       "3                                           30297   \n",
       "4                                           30347   \n",
       "\n",
       "   grunty orne słabe (klasy V, VI);2017;[zł]  łąki ogółem;2017;[zł]  \\\n",
       "0                                      29277                  25681   \n",
       "1                                      26295                  29949   \n",
       "2                                      37706                  33374   \n",
       "3                                      19315                  14607   \n",
       "4                                      24100                  19755   \n",
       "\n",
       "   łąki dobre;2017;[zł]  łąki słabe;2017;[zł]  \n",
       "0                 27655                 22320  \n",
       "1                 31636                 20666  \n",
       "2                 35828                 27944  \n",
       "3                 15898                 12166  \n",
       "4                 20290                 19000  "
      ]
     },
     "execution_count": 1,
     "metadata": {},
     "output_type": "execute_result"
    }
   ],
   "source": [
    "import pandas as pd\n",
    "grunty = pd.read_csv('grunty.csv', sep=',')\n",
    "grunty.head()"
   ]
  },
  {
   "cell_type": "code",
   "execution_count": 4,
   "metadata": {
    "scrolled": true
   },
   "outputs": [
    {
     "data": {
      "text/html": [
       "<div>\n",
       "<style scoped>\n",
       "    .dataframe tbody tr th:only-of-type {\n",
       "        vertical-align: middle;\n",
       "    }\n",
       "\n",
       "    .dataframe tbody tr th {\n",
       "        vertical-align: top;\n",
       "    }\n",
       "\n",
       "    .dataframe thead th {\n",
       "        text-align: right;\n",
       "    }\n",
       "</style>\n",
       "<table border=\"1\" class=\"dataframe\">\n",
       "  <thead>\n",
       "    <tr style=\"text-align: right;\">\n",
       "      <th></th>\n",
       "      <th>grunty orne dobre (klasy I, II, IIIa);2017;[zł]</th>\n",
       "    </tr>\n",
       "  </thead>\n",
       "  <tbody>\n",
       "    <tr>\n",
       "      <td>0</td>\n",
       "      <td>52586</td>\n",
       "    </tr>\n",
       "    <tr>\n",
       "      <td>1</td>\n",
       "      <td>47622</td>\n",
       "    </tr>\n",
       "    <tr>\n",
       "      <td>2</td>\n",
       "      <td>66686</td>\n",
       "    </tr>\n",
       "    <tr>\n",
       "      <td>3</td>\n",
       "      <td>43869</td>\n",
       "    </tr>\n",
       "    <tr>\n",
       "      <td>4</td>\n",
       "      <td>41961</td>\n",
       "    </tr>\n",
       "    <tr>\n",
       "      <td>5</td>\n",
       "      <td>50128</td>\n",
       "    </tr>\n",
       "    <tr>\n",
       "      <td>6</td>\n",
       "      <td>37962</td>\n",
       "    </tr>\n",
       "    <tr>\n",
       "      <td>7</td>\n",
       "      <td>55444</td>\n",
       "    </tr>\n",
       "    <tr>\n",
       "      <td>8</td>\n",
       "      <td>67012</td>\n",
       "    </tr>\n",
       "    <tr>\n",
       "      <td>9</td>\n",
       "      <td>30010</td>\n",
       "    </tr>\n",
       "    <tr>\n",
       "      <td>10</td>\n",
       "      <td>51860</td>\n",
       "    </tr>\n",
       "    <tr>\n",
       "      <td>11</td>\n",
       "      <td>59626</td>\n",
       "    </tr>\n",
       "    <tr>\n",
       "      <td>12</td>\n",
       "      <td>53023</td>\n",
       "    </tr>\n",
       "    <tr>\n",
       "      <td>13</td>\n",
       "      <td>36946</td>\n",
       "    </tr>\n",
       "    <tr>\n",
       "      <td>14</td>\n",
       "      <td>50325</td>\n",
       "    </tr>\n",
       "    <tr>\n",
       "      <td>15</td>\n",
       "      <td>71724</td>\n",
       "    </tr>\n",
       "    <tr>\n",
       "      <td>16</td>\n",
       "      <td>37205</td>\n",
       "    </tr>\n",
       "  </tbody>\n",
       "</table>\n",
       "</div>"
      ],
      "text/plain": [
       "    grunty orne dobre (klasy I, II, IIIa);2017;[zł]\n",
       "0                                             52586\n",
       "1                                             47622\n",
       "2                                             66686\n",
       "3                                             43869\n",
       "4                                             41961\n",
       "5                                             50128\n",
       "6                                             37962\n",
       "7                                             55444\n",
       "8                                             67012\n",
       "9                                             30010\n",
       "10                                            51860\n",
       "11                                            59626\n",
       "12                                            53023\n",
       "13                                            36946\n",
       "14                                            50325\n",
       "15                                            71724\n",
       "16                                            37205"
      ]
     },
     "execution_count": 4,
     "metadata": {},
     "output_type": "execute_result"
    }
   ],
   "source": [
    "grunty[['grunty orne dobre (klasy I, II, IIIa);2017;[zł]']]"
   ]
  },
  {
   "cell_type": "markdown",
   "metadata": {},
   "source": [
    "##### Pliki xls\n",
    "\n",
    "[https://pandas.pydata.org/pandas-docs/version/0.20/generated/pandas.read_excel.html](https://pandas.pydata.org/pandas-docs/version/0.20/generated/pandas.read_excel.html)"
   ]
  },
  {
   "cell_type": "code",
   "execution_count": 5,
   "metadata": {
    "scrolled": true
   },
   "outputs": [
    {
     "data": {
      "text/html": [
       "<div>\n",
       "<style scoped>\n",
       "    .dataframe tbody tr th:only-of-type {\n",
       "        vertical-align: middle;\n",
       "    }\n",
       "\n",
       "    .dataframe tbody tr th {\n",
       "        vertical-align: top;\n",
       "    }\n",
       "\n",
       "    .dataframe thead th {\n",
       "        text-align: right;\n",
       "    }\n",
       "</style>\n",
       "<table border=\"1\" class=\"dataframe\">\n",
       "  <thead>\n",
       "    <tr style=\"text-align: right;\">\n",
       "      <th></th>\n",
       "      <th>Kategoria:</th>\n",
       "      <th>CENY</th>\n",
       "    </tr>\n",
       "  </thead>\n",
       "  <tbody>\n",
       "    <tr>\n",
       "      <td>0</td>\n",
       "      <td>NaN</td>\n",
       "      <td>Przeciętne ceny producentów dotyczą rynku kraj...</td>\n",
       "    </tr>\n",
       "    <tr>\n",
       "      <td>1</td>\n",
       "      <td>Grupa:</td>\n",
       "      <td>CENY W ROLNICTWIE</td>\n",
       "    </tr>\n",
       "    <tr>\n",
       "      <td>2</td>\n",
       "      <td>NaN</td>\n",
       "      <td>-</td>\n",
       "    </tr>\n",
       "    <tr>\n",
       "      <td>3</td>\n",
       "      <td>Podgrupa:</td>\n",
       "      <td>Cena zakupu/sprzedaży użytków rolnych za 1 ha ...</td>\n",
       "    </tr>\n",
       "    <tr>\n",
       "      <td>4</td>\n",
       "      <td>NaN</td>\n",
       "      <td>-</td>\n",
       "    </tr>\n",
       "    <tr>\n",
       "      <td>5</td>\n",
       "      <td>Data ostatniej aktualizacji:</td>\n",
       "      <td>2018-02-28</td>\n",
       "    </tr>\n",
       "    <tr>\n",
       "      <td>6</td>\n",
       "      <td>Wymiary:</td>\n",
       "      <td>Użytki rolne; Rok</td>\n",
       "    </tr>\n",
       "    <tr>\n",
       "      <td>7</td>\n",
       "      <td>Przypisy:</td>\n",
       "      <td>Znak '-' oznacza brak informacji z powodu: zmi...</td>\n",
       "    </tr>\n",
       "  </tbody>\n",
       "</table>\n",
       "</div>"
      ],
      "text/plain": [
       "                     Kategoria:  \\\n",
       "0                           NaN   \n",
       "1                        Grupa:   \n",
       "2                           NaN   \n",
       "3                     Podgrupa:   \n",
       "4                           NaN   \n",
       "5  Data ostatniej aktualizacji:   \n",
       "6                      Wymiary:   \n",
       "7                     Przypisy:   \n",
       "\n",
       "                                                CENY  \n",
       "0  Przeciętne ceny producentów dotyczą rynku kraj...  \n",
       "1                                  CENY W ROLNICTWIE  \n",
       "2                                                  -  \n",
       "3  Cena zakupu/sprzedaży użytków rolnych za 1 ha ...  \n",
       "4                                                  -  \n",
       "5                                         2018-02-28  \n",
       "6                                  Użytki rolne; Rok  \n",
       "7  Znak '-' oznacza brak informacji z powodu: zmi...  "
      ]
     },
     "execution_count": 5,
     "metadata": {},
     "output_type": "execute_result"
    }
   ],
   "source": [
    "grunty_xls = pd.read_excel('grunty.xlsx')\n",
    "grunty_xls"
   ]
  },
  {
   "cell_type": "code",
   "execution_count": 6,
   "metadata": {},
   "outputs": [
    {
     "data": {
      "text/html": [
       "<div>\n",
       "<style scoped>\n",
       "    .dataframe tbody tr th:only-of-type {\n",
       "        vertical-align: middle;\n",
       "    }\n",
       "\n",
       "    .dataframe tbody tr th {\n",
       "        vertical-align: top;\n",
       "    }\n",
       "\n",
       "    .dataframe thead th {\n",
       "        text-align: right;\n",
       "    }\n",
       "</style>\n",
       "<table border=\"1\" class=\"dataframe\">\n",
       "  <thead>\n",
       "    <tr style=\"text-align: right;\">\n",
       "      <th></th>\n",
       "      <th>Kod</th>\n",
       "      <th>Nazwa</th>\n",
       "      <th>grunty orne ogółem</th>\n",
       "      <th>grunty orne dobre (klasy I, II, IIIa)</th>\n",
       "      <th>grunty orne średnie (klasy IIIb, IV)</th>\n",
       "      <th>grunty orne słabe (klasy V, VI)</th>\n",
       "      <th>łąki ogółem</th>\n",
       "      <th>łąki dobre</th>\n",
       "      <th>łąki słabe</th>\n",
       "    </tr>\n",
       "  </thead>\n",
       "  <tbody>\n",
       "    <tr>\n",
       "      <td>0</td>\n",
       "      <td>NaN</td>\n",
       "      <td>NaN</td>\n",
       "      <td>2017</td>\n",
       "      <td>2017</td>\n",
       "      <td>2017</td>\n",
       "      <td>2017</td>\n",
       "      <td>2017</td>\n",
       "      <td>2017</td>\n",
       "      <td>2017</td>\n",
       "    </tr>\n",
       "    <tr>\n",
       "      <td>1</td>\n",
       "      <td>NaN</td>\n",
       "      <td>NaN</td>\n",
       "      <td>[zł]</td>\n",
       "      <td>[zł]</td>\n",
       "      <td>[zł]</td>\n",
       "      <td>[zł]</td>\n",
       "      <td>[zł]</td>\n",
       "      <td>[zł]</td>\n",
       "      <td>[zł]</td>\n",
       "    </tr>\n",
       "    <tr>\n",
       "      <td>2</td>\n",
       "      <td>0.0</td>\n",
       "      <td>POLSKA</td>\n",
       "      <td>41288</td>\n",
       "      <td>52586</td>\n",
       "      <td>42196</td>\n",
       "      <td>29277</td>\n",
       "      <td>25681</td>\n",
       "      <td>27655</td>\n",
       "      <td>22320</td>\n",
       "    </tr>\n",
       "    <tr>\n",
       "      <td>3</td>\n",
       "      <td>200000.0</td>\n",
       "      <td>DOLNOŚLĄSKIE</td>\n",
       "      <td>36591</td>\n",
       "      <td>47622</td>\n",
       "      <td>36422</td>\n",
       "      <td>26295</td>\n",
       "      <td>29949</td>\n",
       "      <td>31636</td>\n",
       "      <td>20666</td>\n",
       "    </tr>\n",
       "    <tr>\n",
       "      <td>4</td>\n",
       "      <td>400000.0</td>\n",
       "      <td>KUJAWSKO-POMORSKIE</td>\n",
       "      <td>55784</td>\n",
       "      <td>66686</td>\n",
       "      <td>55657</td>\n",
       "      <td>37706</td>\n",
       "      <td>33374</td>\n",
       "      <td>35828</td>\n",
       "      <td>27944</td>\n",
       "    </tr>\n",
       "    <tr>\n",
       "      <td>5</td>\n",
       "      <td>600000.0</td>\n",
       "      <td>LUBELSKIE</td>\n",
       "      <td>30680</td>\n",
       "      <td>43869</td>\n",
       "      <td>30297</td>\n",
       "      <td>19315</td>\n",
       "      <td>14607</td>\n",
       "      <td>15898</td>\n",
       "      <td>12166</td>\n",
       "    </tr>\n",
       "    <tr>\n",
       "      <td>6</td>\n",
       "      <td>800000.0</td>\n",
       "      <td>LUBUSKIE</td>\n",
       "      <td>28800</td>\n",
       "      <td>41961</td>\n",
       "      <td>30347</td>\n",
       "      <td>24100</td>\n",
       "      <td>19755</td>\n",
       "      <td>20290</td>\n",
       "      <td>19000</td>\n",
       "    </tr>\n",
       "    <tr>\n",
       "      <td>7</td>\n",
       "      <td>1000000.0</td>\n",
       "      <td>ŁÓDZKIE</td>\n",
       "      <td>36074</td>\n",
       "      <td>50128</td>\n",
       "      <td>38074</td>\n",
       "      <td>26065</td>\n",
       "      <td>22771</td>\n",
       "      <td>25294</td>\n",
       "      <td>18135</td>\n",
       "    </tr>\n",
       "    <tr>\n",
       "      <td>8</td>\n",
       "      <td>1200000.0</td>\n",
       "      <td>MAŁOPOLSKIE</td>\n",
       "      <td>30857</td>\n",
       "      <td>37962</td>\n",
       "      <td>28552</td>\n",
       "      <td>22540</td>\n",
       "      <td>21695</td>\n",
       "      <td>22528</td>\n",
       "      <td>16647</td>\n",
       "    </tr>\n",
       "    <tr>\n",
       "      <td>9</td>\n",
       "      <td>1400000.0</td>\n",
       "      <td>MAZOWIECKIE</td>\n",
       "      <td>39193</td>\n",
       "      <td>55444</td>\n",
       "      <td>39975</td>\n",
       "      <td>29729</td>\n",
       "      <td>28997</td>\n",
       "      <td>31257</td>\n",
       "      <td>25993</td>\n",
       "    </tr>\n",
       "    <tr>\n",
       "      <td>10</td>\n",
       "      <td>1600000.0</td>\n",
       "      <td>OPOLSKIE</td>\n",
       "      <td>46682</td>\n",
       "      <td>67012</td>\n",
       "      <td>43514</td>\n",
       "      <td>29829</td>\n",
       "      <td>22273</td>\n",
       "      <td>24355</td>\n",
       "      <td>20235</td>\n",
       "    </tr>\n",
       "    <tr>\n",
       "      <td>11</td>\n",
       "      <td>1800000.0</td>\n",
       "      <td>PODKARPACKIE</td>\n",
       "      <td>24185</td>\n",
       "      <td>30010</td>\n",
       "      <td>23830</td>\n",
       "      <td>17072</td>\n",
       "      <td>18020</td>\n",
       "      <td>19403</td>\n",
       "      <td>14022</td>\n",
       "    </tr>\n",
       "    <tr>\n",
       "      <td>12</td>\n",
       "      <td>2000000.0</td>\n",
       "      <td>PODLASKIE</td>\n",
       "      <td>37643</td>\n",
       "      <td>51860</td>\n",
       "      <td>40433</td>\n",
       "      <td>30726</td>\n",
       "      <td>30323</td>\n",
       "      <td>31949</td>\n",
       "      <td>25841</td>\n",
       "    </tr>\n",
       "    <tr>\n",
       "      <td>13</td>\n",
       "      <td>2200000.0</td>\n",
       "      <td>POMORSKIE</td>\n",
       "      <td>39539</td>\n",
       "      <td>59626</td>\n",
       "      <td>38971</td>\n",
       "      <td>31834</td>\n",
       "      <td>27725</td>\n",
       "      <td>33812</td>\n",
       "      <td>23666</td>\n",
       "    </tr>\n",
       "    <tr>\n",
       "      <td>14</td>\n",
       "      <td>2400000.0</td>\n",
       "      <td>ŚLĄSKIE</td>\n",
       "      <td>35780</td>\n",
       "      <td>53023</td>\n",
       "      <td>38115</td>\n",
       "      <td>22666</td>\n",
       "      <td>23368</td>\n",
       "      <td>27323</td>\n",
       "      <td>19411</td>\n",
       "    </tr>\n",
       "    <tr>\n",
       "      <td>15</td>\n",
       "      <td>2600000.0</td>\n",
       "      <td>ŚWIĘTOKRZYSKIE</td>\n",
       "      <td>27931</td>\n",
       "      <td>36946</td>\n",
       "      <td>24953</td>\n",
       "      <td>17379</td>\n",
       "      <td>14356</td>\n",
       "      <td>15032</td>\n",
       "      <td>12680</td>\n",
       "    </tr>\n",
       "    <tr>\n",
       "      <td>16</td>\n",
       "      <td>2800000.0</td>\n",
       "      <td>WARMIŃSKO-MAZURSKIE</td>\n",
       "      <td>41444</td>\n",
       "      <td>50325</td>\n",
       "      <td>43279</td>\n",
       "      <td>33036</td>\n",
       "      <td>21326</td>\n",
       "      <td>23382</td>\n",
       "      <td>18084</td>\n",
       "    </tr>\n",
       "    <tr>\n",
       "      <td>17</td>\n",
       "      <td>3000000.0</td>\n",
       "      <td>WIELKOPOLSKIE</td>\n",
       "      <td>56721</td>\n",
       "      <td>71724</td>\n",
       "      <td>59036</td>\n",
       "      <td>41137</td>\n",
       "      <td>32011</td>\n",
       "      <td>35481</td>\n",
       "      <td>27191</td>\n",
       "    </tr>\n",
       "    <tr>\n",
       "      <td>18</td>\n",
       "      <td>3200000.0</td>\n",
       "      <td>ZACHODNIOPOMORSKIE</td>\n",
       "      <td>28693</td>\n",
       "      <td>37205</td>\n",
       "      <td>28686</td>\n",
       "      <td>22235</td>\n",
       "      <td>16614</td>\n",
       "      <td>17494</td>\n",
       "      <td>15361</td>\n",
       "    </tr>\n",
       "  </tbody>\n",
       "</table>\n",
       "</div>"
      ],
      "text/plain": [
       "          Kod                Nazwa grunty orne ogółem  \\\n",
       "0         NaN                  NaN               2017   \n",
       "1         NaN                  NaN               [zł]   \n",
       "2         0.0               POLSKA              41288   \n",
       "3    200000.0         DOLNOŚLĄSKIE              36591   \n",
       "4    400000.0   KUJAWSKO-POMORSKIE              55784   \n",
       "5    600000.0            LUBELSKIE              30680   \n",
       "6    800000.0             LUBUSKIE              28800   \n",
       "7   1000000.0              ŁÓDZKIE              36074   \n",
       "8   1200000.0          MAŁOPOLSKIE              30857   \n",
       "9   1400000.0          MAZOWIECKIE              39193   \n",
       "10  1600000.0             OPOLSKIE              46682   \n",
       "11  1800000.0         PODKARPACKIE              24185   \n",
       "12  2000000.0            PODLASKIE              37643   \n",
       "13  2200000.0            POMORSKIE              39539   \n",
       "14  2400000.0              ŚLĄSKIE              35780   \n",
       "15  2600000.0       ŚWIĘTOKRZYSKIE              27931   \n",
       "16  2800000.0  WARMIŃSKO-MAZURSKIE              41444   \n",
       "17  3000000.0        WIELKOPOLSKIE              56721   \n",
       "18  3200000.0   ZACHODNIOPOMORSKIE              28693   \n",
       "\n",
       "   grunty orne dobre (klasy I, II, IIIa) grunty orne średnie (klasy IIIb, IV)  \\\n",
       "0                                   2017                                 2017   \n",
       "1                                   [zł]                                 [zł]   \n",
       "2                                  52586                                42196   \n",
       "3                                  47622                                36422   \n",
       "4                                  66686                                55657   \n",
       "5                                  43869                                30297   \n",
       "6                                  41961                                30347   \n",
       "7                                  50128                                38074   \n",
       "8                                  37962                                28552   \n",
       "9                                  55444                                39975   \n",
       "10                                 67012                                43514   \n",
       "11                                 30010                                23830   \n",
       "12                                 51860                                40433   \n",
       "13                                 59626                                38971   \n",
       "14                                 53023                                38115   \n",
       "15                                 36946                                24953   \n",
       "16                                 50325                                43279   \n",
       "17                                 71724                                59036   \n",
       "18                                 37205                                28686   \n",
       "\n",
       "   grunty orne słabe (klasy V, VI) łąki ogółem łąki dobre łąki słabe  \n",
       "0                             2017        2017       2017       2017  \n",
       "1                             [zł]        [zł]       [zł]       [zł]  \n",
       "2                            29277       25681      27655      22320  \n",
       "3                            26295       29949      31636      20666  \n",
       "4                            37706       33374      35828      27944  \n",
       "5                            19315       14607      15898      12166  \n",
       "6                            24100       19755      20290      19000  \n",
       "7                            26065       22771      25294      18135  \n",
       "8                            22540       21695      22528      16647  \n",
       "9                            29729       28997      31257      25993  \n",
       "10                           29829       22273      24355      20235  \n",
       "11                           17072       18020      19403      14022  \n",
       "12                           30726       30323      31949      25841  \n",
       "13                           31834       27725      33812      23666  \n",
       "14                           22666       23368      27323      19411  \n",
       "15                           17379       14356      15032      12680  \n",
       "16                           33036       21326      23382      18084  \n",
       "17                           41137       32011      35481      27191  \n",
       "18                           22235       16614      17494      15361  "
      ]
     },
     "execution_count": 6,
     "metadata": {},
     "output_type": "execute_result"
    }
   ],
   "source": [
    "grunty_xls = pd.read_excel('grunty.xlsx', sheet_name='TABLICA')\n",
    "grunty_xls"
   ]
  },
  {
   "cell_type": "markdown",
   "metadata": {},
   "source": [
    "**Czytanie stron internetowych**\n",
    "\n",
    "[stany USA](https://simple.wikipedia.org/wiki/List_of_U.S._states)"
   ]
  },
  {
   "cell_type": "code",
   "execution_count": 7,
   "metadata": {},
   "outputs": [
    {
     "data": {
      "text/plain": [
       "[          Name &postal abbs. [1]                          Unnamed: 2_level_0  \\\n",
       "           Name &postal abbs. [1] Name &postal abbs. [1].1 Unnamed: 2_level_1   \n",
       " 0                        Alabama                      NaN                 AL   \n",
       " 1                         Alaska                      NaN                 AK   \n",
       " 2                        Arizona                      NaN                 AZ   \n",
       " 3                       Arkansas                      NaN                 AR   \n",
       " 4                     California                      NaN                 CA   \n",
       " 5                       Colorado                      NaN                 CO   \n",
       " 6                    Connecticut                      NaN                 CT   \n",
       " 7                       Delaware                      NaN                 DE   \n",
       " 8                        Florida                      NaN                 FL   \n",
       " 9                        Georgia                      NaN                 GA   \n",
       " 10                        Hawaii                      NaN                 HI   \n",
       " 11                         Idaho                      NaN                 ID   \n",
       " 12                      Illinois                      NaN                 IL   \n",
       " 13                       Indiana                      NaN                 IN   \n",
       " 14                          Iowa                      NaN                 IA   \n",
       " 15                        Kansas                      NaN                 KS   \n",
       " 16       Kentucky[upper-alpha 3]                      NaN                 KY   \n",
       " 17                     Louisiana                      NaN                 LA   \n",
       " 18                         Maine                      NaN                 ME   \n",
       " 19                      Maryland                      NaN                 MD   \n",
       " 20  Massachusetts[upper-alpha 3]                      NaN                 MA   \n",
       " 21                      Michigan                      NaN                 MI   \n",
       " 22                     Minnesota                      NaN                 MN   \n",
       " 23                   Mississippi                      NaN                 MS   \n",
       " 24                      Missouri                      NaN                 MO   \n",
       " 25                       Montana                      NaN                 MT   \n",
       " 26                      Nebraska                      NaN                 NE   \n",
       " 27                        Nevada                      NaN                 NV   \n",
       " 28                 New Hampshire                      NaN                 NH   \n",
       " 29                    New Jersey                      NaN                 NJ   \n",
       " 30                    New Mexico                      NaN                 NM   \n",
       " 31                      New York                      NaN                 NY   \n",
       " 32                North Carolina                      NaN                 NC   \n",
       " 33                  North Dakota                      NaN                 ND   \n",
       " 34                          Ohio                      NaN                 OH   \n",
       " 35                      Oklahoma                      NaN                 OK   \n",
       " 36                        Oregon                      NaN                 OR   \n",
       " 37   Pennsylvania[upper-alpha 3]                      NaN                 PA   \n",
       " 38                  Rhode Island                      NaN                 RI   \n",
       " 39                South Carolina                      NaN                 SC   \n",
       " 40                  South Dakota                      NaN                 SD   \n",
       " 41                     Tennessee                      NaN                 TN   \n",
       " 42                         Texas                      NaN                 TX   \n",
       " 43                          Utah                      NaN                 UT   \n",
       " 44                       Vermont                      NaN                 VT   \n",
       " 45       Virginia[upper-alpha 3]                      NaN                 VA   \n",
       " 46                    Washington                      NaN                 WA   \n",
       " 47                 West Virginia                      NaN                 WV   \n",
       " 48                     Wisconsin                      NaN                 WI   \n",
       " 49                       Wyoming                      NaN                 WY   \n",
       " \n",
       "             Cities                            Established[upper-alpha 1]  \\\n",
       "            Capital Largest (by population)[5] Established[upper-alpha 1]   \n",
       " 0       Montgomery                 Birmingham               Dec 14, 1819   \n",
       " 1           Juneau                  Anchorage                Jan 3, 1959   \n",
       " 2          Phoenix                    Phoenix               Feb 14, 1912   \n",
       " 3      Little Rock                Little Rock               Jun 15, 1836   \n",
       " 4       Sacramento                Los Angeles                Sep 9, 1850   \n",
       " 5           Denver                     Denver                Aug 1, 1876   \n",
       " 6         Hartford                 Bridgeport                Jan 9, 1788   \n",
       " 7            Dover                 Wilmington                Dec 7, 1787   \n",
       " 8      Tallahassee               Jacksonville                Mar 3, 1845   \n",
       " 9          Atlanta                    Atlanta                Jan 2, 1788   \n",
       " 10        Honolulu                   Honolulu               Aug 21, 1959   \n",
       " 11           Boise                      Boise                Jul 3, 1890   \n",
       " 12     Springfield                    Chicago                Dec 3, 1818   \n",
       " 13    Indianapolis               Indianapolis               Dec 11, 1816   \n",
       " 14      Des Moines                 Des Moines               Dec 28, 1846   \n",
       " 15          Topeka                    Wichita               Jan 29, 1861   \n",
       " 16       Frankfort                 Louisville                Jun 1, 1792   \n",
       " 17     Baton Rouge                New Orleans               Apr 30, 1812   \n",
       " 18         Augusta                   Portland               Mar 15, 1820   \n",
       " 19       Annapolis                  Baltimore               Apr 28, 1788   \n",
       " 20          Boston                     Boston                Feb 6, 1788   \n",
       " 21         Lansing                    Detroit               Jan 26, 1837   \n",
       " 22        St. Paul                Minneapolis               May 11, 1858   \n",
       " 23         Jackson                    Jackson               Dec 10, 1817   \n",
       " 24  Jefferson City                Kansas City               Aug 10, 1821   \n",
       " 25          Helena                   Billings                Nov 8, 1889   \n",
       " 26         Lincoln                      Omaha                Mar 1, 1867   \n",
       " 27     Carson City                  Las Vegas               Oct 31, 1864   \n",
       " 28         Concord                 Manchester               Jun 21, 1788   \n",
       " 29         Trenton                     Newark               Dec 18, 1787   \n",
       " 30        Santa Fe                Albuquerque                Jan 6, 1912   \n",
       " 31          Albany                   New York               Jul 26, 1788   \n",
       " 32         Raleigh                  Charlotte               Nov 21, 1789   \n",
       " 33        Bismarck                      Fargo                Nov 2, 1889   \n",
       " 34        Columbus                   Columbus                Mar 1, 1803   \n",
       " 35   Oklahoma City              Oklahoma City               Nov 16, 1907   \n",
       " 36           Salem                   Portland               Feb 14, 1859   \n",
       " 37      Harrisburg               Philadelphia               Dec 12, 1787   \n",
       " 38      Providence                 Providence               May 29, 1790   \n",
       " 39        Columbia                 Charleston               May 23, 1788   \n",
       " 40          Pierre                Sioux Falls                Nov 2, 1889   \n",
       " 41       Nashville                  Nashville                Jun 1, 1796   \n",
       " 42          Austin                    Houston               Dec 29, 1845   \n",
       " 43  Salt Lake City             Salt Lake City                Jan 4, 1896   \n",
       " 44      Montpelier                 Burlington                Mar 4, 1791   \n",
       " 45        Richmond             Virginia Beach               Jun 25, 1788   \n",
       " 46         Olympia                    Seattle               Nov 11, 1889   \n",
       " 47      Charleston                 Charleston               Jun 20, 1863   \n",
       " 48         Madison                  Milwaukee               May 29, 1848   \n",
       " 49        Cheyenne                   Cheyenne               Jul 10, 1890   \n",
       " \n",
       "    Population[upper-alpha 2][3] Total area[4]          Land area[4]           \\\n",
       "    Population[upper-alpha 2][3]           mi2      km2          mi2      km2   \n",
       " 0                       4903185         52420   135767        50645   131171   \n",
       " 1                        731545        665384  1723337       570641  1477953   \n",
       " 2                       7278717        113990   295234       113594   294207   \n",
       " 3                       3017804         53179   137732        52035   134771   \n",
       " 4                      39512223        163695   423967       155779   403466   \n",
       " 5                       5758736        104094   269601       103642   268431   \n",
       " 6                       3565278          5543    14357         4842    12542   \n",
       " 7                        973764          2489     6446         1949     5047   \n",
       " 8                      21477737         65758   170312        53625   138887   \n",
       " 9                      10617423         59425   153910        57513   148959   \n",
       " 10                      1415872         10932    28313         6423    16635   \n",
       " 11                      1787065         83569   216443        82643   214045   \n",
       " 12                     12671821         57914   149995        55519   143793   \n",
       " 13                      6732219         36420    94326        35826    92789   \n",
       " 14                      3155070         56273   145746        55857   144669   \n",
       " 15                      2913314         82278   213100        81759   211754   \n",
       " 16                      4467673         40408   104656        39486   102269   \n",
       " 17                      4648794         52378   135659        43204   111898   \n",
       " 18                      1344212         35380    91633        30843    79883   \n",
       " 19                      6045680         12406    32131         9707    25142   \n",
       " 20                      6892503         10554    27336         7800    20202   \n",
       " 21                      9986857         96714   250487        56539   146435   \n",
       " 22                      5639632         86936   225163        79627   206232   \n",
       " 23                      2976149         48432   125438        46923   121531   \n",
       " 24                      6137428         69707   180540        68742   178040   \n",
       " 25                      1068778        147040   380831       145546   376962   \n",
       " 26                      1934408         77348   200330        76824   198974   \n",
       " 27                      3080156        110572   286380       109781   284332   \n",
       " 28                      1359711          9349    24214         8953    23187   \n",
       " 29                      8882190          8723    22591         7354    19047   \n",
       " 30                      2096829        121590   314917       121298   314161   \n",
       " 31                     19453561         54555   141297        47126   122057   \n",
       " 32                     10488084         53819   139391        48618   125920   \n",
       " 33                       762062         70698   183108        69001   178711   \n",
       " 34                     11689100         44826   116098        40861   105829   \n",
       " 35                      3956971         69899   181037        68595   177660   \n",
       " 36                      4217737         98379   254799        95988   248608   \n",
       " 37                     12801989         46054   119280        44743   115883   \n",
       " 38                      1059361          1545     4001         1034     2678   \n",
       " 39                      5148714         32020    82933        30061    77857   \n",
       " 40                       884659         77116   199729        75811   196350   \n",
       " 41                      6829174         42144   109153        41235   106798   \n",
       " 42                     28995881        268596   695662       261232   676587   \n",
       " 43                      3205958         84897   219882        82170   212818   \n",
       " 44                       623989          9616    24906         9217    23871   \n",
       " 45                      8535519         42775   110787        39490   102279   \n",
       " 46                      7614893         71298   184661        66456   172119   \n",
       " 47                      1792147         24230    62756        24038    62259   \n",
       " 48                      5822434         65496   169635        54158   140268   \n",
       " 49                       578759         97813   253335        97093   251470   \n",
       " \n",
       "    Water area[4]         Numberof Reps.  \n",
       "              mi2     km2 Numberof Reps.  \n",
       " 0           1775    4597              7  \n",
       " 1          94743  245384              1  \n",
       " 2            396    1026              9  \n",
       " 3           1143    2961              4  \n",
       " 4           7916   20501             53  \n",
       " 5            452    1170              7  \n",
       " 6            701    1816              5  \n",
       " 7            540    1399              1  \n",
       " 8          12133   31424             27  \n",
       " 9           1912    4951             14  \n",
       " 10          4509   11678              2  \n",
       " 11           926    2398              2  \n",
       " 12          2395    6202             18  \n",
       " 13           593    1537              9  \n",
       " 14           416    1077              4  \n",
       " 15           520    1346              4  \n",
       " 16           921    2387              6  \n",
       " 17          9174   23761              6  \n",
       " 18          4537   11750              2  \n",
       " 19          2699    6990              8  \n",
       " 20          2754    7134              9  \n",
       " 21         40175  104052             14  \n",
       " 22          7309   18930              8  \n",
       " 23          1508    3907              4  \n",
       " 24           965    2501              8  \n",
       " 25          1494    3869              1  \n",
       " 26           524    1356              3  \n",
       " 27           791    2048              4  \n",
       " 28           397    1027              2  \n",
       " 29          1368    3544             12  \n",
       " 30           292     757              3  \n",
       " 31          7429   19240             27  \n",
       " 32          5201   13471             13  \n",
       " 33          1698    4397              1  \n",
       " 34          3965   10269             16  \n",
       " 35          1304    3377              5  \n",
       " 36          2391    6191              5  \n",
       " 37          1312    3397             18  \n",
       " 38           511    1324              2  \n",
       " 39          1960    5076              7  \n",
       " 40          1305    3379              1  \n",
       " 41           909    2355              9  \n",
       " 42          7365   19075             36  \n",
       " 43          2727    7064              4  \n",
       " 44           400    1035              1  \n",
       " 45          3285    8508             11  \n",
       " 46          4842   12542             10  \n",
       " 47           192     497              3  \n",
       " 48         11339   29367              8  \n",
       " 49           720    1864              1  ]"
      ]
     },
     "execution_count": 7,
     "metadata": {},
     "output_type": "execute_result"
    }
   ],
   "source": [
    "stany = pd.read_html('https://simple.wikipedia.org/wiki/List_of_U.S._states') \n",
    "stany"
   ]
  },
  {
   "cell_type": "code",
   "execution_count": 8,
   "metadata": {
    "scrolled": true
   },
   "outputs": [
    {
     "data": {
      "text/html": [
       "<div>\n",
       "<style scoped>\n",
       "    .dataframe tbody tr th:only-of-type {\n",
       "        vertical-align: middle;\n",
       "    }\n",
       "\n",
       "    .dataframe tbody tr th {\n",
       "        vertical-align: top;\n",
       "    }\n",
       "\n",
       "    .dataframe thead tr th {\n",
       "        text-align: left;\n",
       "    }\n",
       "</style>\n",
       "<table border=\"1\" class=\"dataframe\">\n",
       "  <thead>\n",
       "    <tr>\n",
       "      <th></th>\n",
       "      <th colspan=\"2\" halign=\"left\">Name &amp;postal abbs. [1]</th>\n",
       "      <th>Unnamed: 2_level_0</th>\n",
       "      <th colspan=\"2\" halign=\"left\">Cities</th>\n",
       "      <th>Established[upper-alpha 1]</th>\n",
       "      <th>Population[upper-alpha 2][3]</th>\n",
       "      <th colspan=\"2\" halign=\"left\">Total area[4]</th>\n",
       "      <th colspan=\"2\" halign=\"left\">Land area[4]</th>\n",
       "      <th colspan=\"2\" halign=\"left\">Water area[4]</th>\n",
       "      <th>Numberof Reps.</th>\n",
       "    </tr>\n",
       "    <tr>\n",
       "      <th></th>\n",
       "      <th>Name &amp;postal abbs. [1]</th>\n",
       "      <th>Name &amp;postal abbs. [1].1</th>\n",
       "      <th>Unnamed: 2_level_1</th>\n",
       "      <th>Capital</th>\n",
       "      <th>Largest (by population)[5]</th>\n",
       "      <th>Established[upper-alpha 1]</th>\n",
       "      <th>Population[upper-alpha 2][3]</th>\n",
       "      <th>mi2</th>\n",
       "      <th>km2</th>\n",
       "      <th>mi2</th>\n",
       "      <th>km2</th>\n",
       "      <th>mi2</th>\n",
       "      <th>km2</th>\n",
       "      <th>Numberof Reps.</th>\n",
       "    </tr>\n",
       "  </thead>\n",
       "  <tbody>\n",
       "    <tr>\n",
       "      <td>0</td>\n",
       "      <td>Alabama</td>\n",
       "      <td>NaN</td>\n",
       "      <td>AL</td>\n",
       "      <td>Montgomery</td>\n",
       "      <td>Birmingham</td>\n",
       "      <td>Dec 14, 1819</td>\n",
       "      <td>4903185</td>\n",
       "      <td>52420</td>\n",
       "      <td>135767</td>\n",
       "      <td>50645</td>\n",
       "      <td>131171</td>\n",
       "      <td>1775</td>\n",
       "      <td>4597</td>\n",
       "      <td>7</td>\n",
       "    </tr>\n",
       "    <tr>\n",
       "      <td>1</td>\n",
       "      <td>Alaska</td>\n",
       "      <td>NaN</td>\n",
       "      <td>AK</td>\n",
       "      <td>Juneau</td>\n",
       "      <td>Anchorage</td>\n",
       "      <td>Jan 3, 1959</td>\n",
       "      <td>731545</td>\n",
       "      <td>665384</td>\n",
       "      <td>1723337</td>\n",
       "      <td>570641</td>\n",
       "      <td>1477953</td>\n",
       "      <td>94743</td>\n",
       "      <td>245384</td>\n",
       "      <td>1</td>\n",
       "    </tr>\n",
       "    <tr>\n",
       "      <td>2</td>\n",
       "      <td>Arizona</td>\n",
       "      <td>NaN</td>\n",
       "      <td>AZ</td>\n",
       "      <td>Phoenix</td>\n",
       "      <td>Phoenix</td>\n",
       "      <td>Feb 14, 1912</td>\n",
       "      <td>7278717</td>\n",
       "      <td>113990</td>\n",
       "      <td>295234</td>\n",
       "      <td>113594</td>\n",
       "      <td>294207</td>\n",
       "      <td>396</td>\n",
       "      <td>1026</td>\n",
       "      <td>9</td>\n",
       "    </tr>\n",
       "    <tr>\n",
       "      <td>3</td>\n",
       "      <td>Arkansas</td>\n",
       "      <td>NaN</td>\n",
       "      <td>AR</td>\n",
       "      <td>Little Rock</td>\n",
       "      <td>Little Rock</td>\n",
       "      <td>Jun 15, 1836</td>\n",
       "      <td>3017804</td>\n",
       "      <td>53179</td>\n",
       "      <td>137732</td>\n",
       "      <td>52035</td>\n",
       "      <td>134771</td>\n",
       "      <td>1143</td>\n",
       "      <td>2961</td>\n",
       "      <td>4</td>\n",
       "    </tr>\n",
       "    <tr>\n",
       "      <td>4</td>\n",
       "      <td>California</td>\n",
       "      <td>NaN</td>\n",
       "      <td>CA</td>\n",
       "      <td>Sacramento</td>\n",
       "      <td>Los Angeles</td>\n",
       "      <td>Sep 9, 1850</td>\n",
       "      <td>39512223</td>\n",
       "      <td>163695</td>\n",
       "      <td>423967</td>\n",
       "      <td>155779</td>\n",
       "      <td>403466</td>\n",
       "      <td>7916</td>\n",
       "      <td>20501</td>\n",
       "      <td>53</td>\n",
       "    </tr>\n",
       "    <tr>\n",
       "      <td>5</td>\n",
       "      <td>Colorado</td>\n",
       "      <td>NaN</td>\n",
       "      <td>CO</td>\n",
       "      <td>Denver</td>\n",
       "      <td>Denver</td>\n",
       "      <td>Aug 1, 1876</td>\n",
       "      <td>5758736</td>\n",
       "      <td>104094</td>\n",
       "      <td>269601</td>\n",
       "      <td>103642</td>\n",
       "      <td>268431</td>\n",
       "      <td>452</td>\n",
       "      <td>1170</td>\n",
       "      <td>7</td>\n",
       "    </tr>\n",
       "    <tr>\n",
       "      <td>6</td>\n",
       "      <td>Connecticut</td>\n",
       "      <td>NaN</td>\n",
       "      <td>CT</td>\n",
       "      <td>Hartford</td>\n",
       "      <td>Bridgeport</td>\n",
       "      <td>Jan 9, 1788</td>\n",
       "      <td>3565278</td>\n",
       "      <td>5543</td>\n",
       "      <td>14357</td>\n",
       "      <td>4842</td>\n",
       "      <td>12542</td>\n",
       "      <td>701</td>\n",
       "      <td>1816</td>\n",
       "      <td>5</td>\n",
       "    </tr>\n",
       "    <tr>\n",
       "      <td>7</td>\n",
       "      <td>Delaware</td>\n",
       "      <td>NaN</td>\n",
       "      <td>DE</td>\n",
       "      <td>Dover</td>\n",
       "      <td>Wilmington</td>\n",
       "      <td>Dec 7, 1787</td>\n",
       "      <td>973764</td>\n",
       "      <td>2489</td>\n",
       "      <td>6446</td>\n",
       "      <td>1949</td>\n",
       "      <td>5047</td>\n",
       "      <td>540</td>\n",
       "      <td>1399</td>\n",
       "      <td>1</td>\n",
       "    </tr>\n",
       "    <tr>\n",
       "      <td>8</td>\n",
       "      <td>Florida</td>\n",
       "      <td>NaN</td>\n",
       "      <td>FL</td>\n",
       "      <td>Tallahassee</td>\n",
       "      <td>Jacksonville</td>\n",
       "      <td>Mar 3, 1845</td>\n",
       "      <td>21477737</td>\n",
       "      <td>65758</td>\n",
       "      <td>170312</td>\n",
       "      <td>53625</td>\n",
       "      <td>138887</td>\n",
       "      <td>12133</td>\n",
       "      <td>31424</td>\n",
       "      <td>27</td>\n",
       "    </tr>\n",
       "    <tr>\n",
       "      <td>9</td>\n",
       "      <td>Georgia</td>\n",
       "      <td>NaN</td>\n",
       "      <td>GA</td>\n",
       "      <td>Atlanta</td>\n",
       "      <td>Atlanta</td>\n",
       "      <td>Jan 2, 1788</td>\n",
       "      <td>10617423</td>\n",
       "      <td>59425</td>\n",
       "      <td>153910</td>\n",
       "      <td>57513</td>\n",
       "      <td>148959</td>\n",
       "      <td>1912</td>\n",
       "      <td>4951</td>\n",
       "      <td>14</td>\n",
       "    </tr>\n",
       "    <tr>\n",
       "      <td>10</td>\n",
       "      <td>Hawaii</td>\n",
       "      <td>NaN</td>\n",
       "      <td>HI</td>\n",
       "      <td>Honolulu</td>\n",
       "      <td>Honolulu</td>\n",
       "      <td>Aug 21, 1959</td>\n",
       "      <td>1415872</td>\n",
       "      <td>10932</td>\n",
       "      <td>28313</td>\n",
       "      <td>6423</td>\n",
       "      <td>16635</td>\n",
       "      <td>4509</td>\n",
       "      <td>11678</td>\n",
       "      <td>2</td>\n",
       "    </tr>\n",
       "    <tr>\n",
       "      <td>11</td>\n",
       "      <td>Idaho</td>\n",
       "      <td>NaN</td>\n",
       "      <td>ID</td>\n",
       "      <td>Boise</td>\n",
       "      <td>Boise</td>\n",
       "      <td>Jul 3, 1890</td>\n",
       "      <td>1787065</td>\n",
       "      <td>83569</td>\n",
       "      <td>216443</td>\n",
       "      <td>82643</td>\n",
       "      <td>214045</td>\n",
       "      <td>926</td>\n",
       "      <td>2398</td>\n",
       "      <td>2</td>\n",
       "    </tr>\n",
       "    <tr>\n",
       "      <td>12</td>\n",
       "      <td>Illinois</td>\n",
       "      <td>NaN</td>\n",
       "      <td>IL</td>\n",
       "      <td>Springfield</td>\n",
       "      <td>Chicago</td>\n",
       "      <td>Dec 3, 1818</td>\n",
       "      <td>12671821</td>\n",
       "      <td>57914</td>\n",
       "      <td>149995</td>\n",
       "      <td>55519</td>\n",
       "      <td>143793</td>\n",
       "      <td>2395</td>\n",
       "      <td>6202</td>\n",
       "      <td>18</td>\n",
       "    </tr>\n",
       "    <tr>\n",
       "      <td>13</td>\n",
       "      <td>Indiana</td>\n",
       "      <td>NaN</td>\n",
       "      <td>IN</td>\n",
       "      <td>Indianapolis</td>\n",
       "      <td>Indianapolis</td>\n",
       "      <td>Dec 11, 1816</td>\n",
       "      <td>6732219</td>\n",
       "      <td>36420</td>\n",
       "      <td>94326</td>\n",
       "      <td>35826</td>\n",
       "      <td>92789</td>\n",
       "      <td>593</td>\n",
       "      <td>1537</td>\n",
       "      <td>9</td>\n",
       "    </tr>\n",
       "    <tr>\n",
       "      <td>14</td>\n",
       "      <td>Iowa</td>\n",
       "      <td>NaN</td>\n",
       "      <td>IA</td>\n",
       "      <td>Des Moines</td>\n",
       "      <td>Des Moines</td>\n",
       "      <td>Dec 28, 1846</td>\n",
       "      <td>3155070</td>\n",
       "      <td>56273</td>\n",
       "      <td>145746</td>\n",
       "      <td>55857</td>\n",
       "      <td>144669</td>\n",
       "      <td>416</td>\n",
       "      <td>1077</td>\n",
       "      <td>4</td>\n",
       "    </tr>\n",
       "    <tr>\n",
       "      <td>15</td>\n",
       "      <td>Kansas</td>\n",
       "      <td>NaN</td>\n",
       "      <td>KS</td>\n",
       "      <td>Topeka</td>\n",
       "      <td>Wichita</td>\n",
       "      <td>Jan 29, 1861</td>\n",
       "      <td>2913314</td>\n",
       "      <td>82278</td>\n",
       "      <td>213100</td>\n",
       "      <td>81759</td>\n",
       "      <td>211754</td>\n",
       "      <td>520</td>\n",
       "      <td>1346</td>\n",
       "      <td>4</td>\n",
       "    </tr>\n",
       "    <tr>\n",
       "      <td>16</td>\n",
       "      <td>Kentucky[upper-alpha 3]</td>\n",
       "      <td>NaN</td>\n",
       "      <td>KY</td>\n",
       "      <td>Frankfort</td>\n",
       "      <td>Louisville</td>\n",
       "      <td>Jun 1, 1792</td>\n",
       "      <td>4467673</td>\n",
       "      <td>40408</td>\n",
       "      <td>104656</td>\n",
       "      <td>39486</td>\n",
       "      <td>102269</td>\n",
       "      <td>921</td>\n",
       "      <td>2387</td>\n",
       "      <td>6</td>\n",
       "    </tr>\n",
       "    <tr>\n",
       "      <td>17</td>\n",
       "      <td>Louisiana</td>\n",
       "      <td>NaN</td>\n",
       "      <td>LA</td>\n",
       "      <td>Baton Rouge</td>\n",
       "      <td>New Orleans</td>\n",
       "      <td>Apr 30, 1812</td>\n",
       "      <td>4648794</td>\n",
       "      <td>52378</td>\n",
       "      <td>135659</td>\n",
       "      <td>43204</td>\n",
       "      <td>111898</td>\n",
       "      <td>9174</td>\n",
       "      <td>23761</td>\n",
       "      <td>6</td>\n",
       "    </tr>\n",
       "    <tr>\n",
       "      <td>18</td>\n",
       "      <td>Maine</td>\n",
       "      <td>NaN</td>\n",
       "      <td>ME</td>\n",
       "      <td>Augusta</td>\n",
       "      <td>Portland</td>\n",
       "      <td>Mar 15, 1820</td>\n",
       "      <td>1344212</td>\n",
       "      <td>35380</td>\n",
       "      <td>91633</td>\n",
       "      <td>30843</td>\n",
       "      <td>79883</td>\n",
       "      <td>4537</td>\n",
       "      <td>11750</td>\n",
       "      <td>2</td>\n",
       "    </tr>\n",
       "    <tr>\n",
       "      <td>19</td>\n",
       "      <td>Maryland</td>\n",
       "      <td>NaN</td>\n",
       "      <td>MD</td>\n",
       "      <td>Annapolis</td>\n",
       "      <td>Baltimore</td>\n",
       "      <td>Apr 28, 1788</td>\n",
       "      <td>6045680</td>\n",
       "      <td>12406</td>\n",
       "      <td>32131</td>\n",
       "      <td>9707</td>\n",
       "      <td>25142</td>\n",
       "      <td>2699</td>\n",
       "      <td>6990</td>\n",
       "      <td>8</td>\n",
       "    </tr>\n",
       "    <tr>\n",
       "      <td>20</td>\n",
       "      <td>Massachusetts[upper-alpha 3]</td>\n",
       "      <td>NaN</td>\n",
       "      <td>MA</td>\n",
       "      <td>Boston</td>\n",
       "      <td>Boston</td>\n",
       "      <td>Feb 6, 1788</td>\n",
       "      <td>6892503</td>\n",
       "      <td>10554</td>\n",
       "      <td>27336</td>\n",
       "      <td>7800</td>\n",
       "      <td>20202</td>\n",
       "      <td>2754</td>\n",
       "      <td>7134</td>\n",
       "      <td>9</td>\n",
       "    </tr>\n",
       "    <tr>\n",
       "      <td>21</td>\n",
       "      <td>Michigan</td>\n",
       "      <td>NaN</td>\n",
       "      <td>MI</td>\n",
       "      <td>Lansing</td>\n",
       "      <td>Detroit</td>\n",
       "      <td>Jan 26, 1837</td>\n",
       "      <td>9986857</td>\n",
       "      <td>96714</td>\n",
       "      <td>250487</td>\n",
       "      <td>56539</td>\n",
       "      <td>146435</td>\n",
       "      <td>40175</td>\n",
       "      <td>104052</td>\n",
       "      <td>14</td>\n",
       "    </tr>\n",
       "    <tr>\n",
       "      <td>22</td>\n",
       "      <td>Minnesota</td>\n",
       "      <td>NaN</td>\n",
       "      <td>MN</td>\n",
       "      <td>St. Paul</td>\n",
       "      <td>Minneapolis</td>\n",
       "      <td>May 11, 1858</td>\n",
       "      <td>5639632</td>\n",
       "      <td>86936</td>\n",
       "      <td>225163</td>\n",
       "      <td>79627</td>\n",
       "      <td>206232</td>\n",
       "      <td>7309</td>\n",
       "      <td>18930</td>\n",
       "      <td>8</td>\n",
       "    </tr>\n",
       "    <tr>\n",
       "      <td>23</td>\n",
       "      <td>Mississippi</td>\n",
       "      <td>NaN</td>\n",
       "      <td>MS</td>\n",
       "      <td>Jackson</td>\n",
       "      <td>Jackson</td>\n",
       "      <td>Dec 10, 1817</td>\n",
       "      <td>2976149</td>\n",
       "      <td>48432</td>\n",
       "      <td>125438</td>\n",
       "      <td>46923</td>\n",
       "      <td>121531</td>\n",
       "      <td>1508</td>\n",
       "      <td>3907</td>\n",
       "      <td>4</td>\n",
       "    </tr>\n",
       "    <tr>\n",
       "      <td>24</td>\n",
       "      <td>Missouri</td>\n",
       "      <td>NaN</td>\n",
       "      <td>MO</td>\n",
       "      <td>Jefferson City</td>\n",
       "      <td>Kansas City</td>\n",
       "      <td>Aug 10, 1821</td>\n",
       "      <td>6137428</td>\n",
       "      <td>69707</td>\n",
       "      <td>180540</td>\n",
       "      <td>68742</td>\n",
       "      <td>178040</td>\n",
       "      <td>965</td>\n",
       "      <td>2501</td>\n",
       "      <td>8</td>\n",
       "    </tr>\n",
       "    <tr>\n",
       "      <td>25</td>\n",
       "      <td>Montana</td>\n",
       "      <td>NaN</td>\n",
       "      <td>MT</td>\n",
       "      <td>Helena</td>\n",
       "      <td>Billings</td>\n",
       "      <td>Nov 8, 1889</td>\n",
       "      <td>1068778</td>\n",
       "      <td>147040</td>\n",
       "      <td>380831</td>\n",
       "      <td>145546</td>\n",
       "      <td>376962</td>\n",
       "      <td>1494</td>\n",
       "      <td>3869</td>\n",
       "      <td>1</td>\n",
       "    </tr>\n",
       "    <tr>\n",
       "      <td>26</td>\n",
       "      <td>Nebraska</td>\n",
       "      <td>NaN</td>\n",
       "      <td>NE</td>\n",
       "      <td>Lincoln</td>\n",
       "      <td>Omaha</td>\n",
       "      <td>Mar 1, 1867</td>\n",
       "      <td>1934408</td>\n",
       "      <td>77348</td>\n",
       "      <td>200330</td>\n",
       "      <td>76824</td>\n",
       "      <td>198974</td>\n",
       "      <td>524</td>\n",
       "      <td>1356</td>\n",
       "      <td>3</td>\n",
       "    </tr>\n",
       "    <tr>\n",
       "      <td>27</td>\n",
       "      <td>Nevada</td>\n",
       "      <td>NaN</td>\n",
       "      <td>NV</td>\n",
       "      <td>Carson City</td>\n",
       "      <td>Las Vegas</td>\n",
       "      <td>Oct 31, 1864</td>\n",
       "      <td>3080156</td>\n",
       "      <td>110572</td>\n",
       "      <td>286380</td>\n",
       "      <td>109781</td>\n",
       "      <td>284332</td>\n",
       "      <td>791</td>\n",
       "      <td>2048</td>\n",
       "      <td>4</td>\n",
       "    </tr>\n",
       "    <tr>\n",
       "      <td>28</td>\n",
       "      <td>New Hampshire</td>\n",
       "      <td>NaN</td>\n",
       "      <td>NH</td>\n",
       "      <td>Concord</td>\n",
       "      <td>Manchester</td>\n",
       "      <td>Jun 21, 1788</td>\n",
       "      <td>1359711</td>\n",
       "      <td>9349</td>\n",
       "      <td>24214</td>\n",
       "      <td>8953</td>\n",
       "      <td>23187</td>\n",
       "      <td>397</td>\n",
       "      <td>1027</td>\n",
       "      <td>2</td>\n",
       "    </tr>\n",
       "    <tr>\n",
       "      <td>29</td>\n",
       "      <td>New Jersey</td>\n",
       "      <td>NaN</td>\n",
       "      <td>NJ</td>\n",
       "      <td>Trenton</td>\n",
       "      <td>Newark</td>\n",
       "      <td>Dec 18, 1787</td>\n",
       "      <td>8882190</td>\n",
       "      <td>8723</td>\n",
       "      <td>22591</td>\n",
       "      <td>7354</td>\n",
       "      <td>19047</td>\n",
       "      <td>1368</td>\n",
       "      <td>3544</td>\n",
       "      <td>12</td>\n",
       "    </tr>\n",
       "    <tr>\n",
       "      <td>30</td>\n",
       "      <td>New Mexico</td>\n",
       "      <td>NaN</td>\n",
       "      <td>NM</td>\n",
       "      <td>Santa Fe</td>\n",
       "      <td>Albuquerque</td>\n",
       "      <td>Jan 6, 1912</td>\n",
       "      <td>2096829</td>\n",
       "      <td>121590</td>\n",
       "      <td>314917</td>\n",
       "      <td>121298</td>\n",
       "      <td>314161</td>\n",
       "      <td>292</td>\n",
       "      <td>757</td>\n",
       "      <td>3</td>\n",
       "    </tr>\n",
       "    <tr>\n",
       "      <td>31</td>\n",
       "      <td>New York</td>\n",
       "      <td>NaN</td>\n",
       "      <td>NY</td>\n",
       "      <td>Albany</td>\n",
       "      <td>New York</td>\n",
       "      <td>Jul 26, 1788</td>\n",
       "      <td>19453561</td>\n",
       "      <td>54555</td>\n",
       "      <td>141297</td>\n",
       "      <td>47126</td>\n",
       "      <td>122057</td>\n",
       "      <td>7429</td>\n",
       "      <td>19240</td>\n",
       "      <td>27</td>\n",
       "    </tr>\n",
       "    <tr>\n",
       "      <td>32</td>\n",
       "      <td>North Carolina</td>\n",
       "      <td>NaN</td>\n",
       "      <td>NC</td>\n",
       "      <td>Raleigh</td>\n",
       "      <td>Charlotte</td>\n",
       "      <td>Nov 21, 1789</td>\n",
       "      <td>10488084</td>\n",
       "      <td>53819</td>\n",
       "      <td>139391</td>\n",
       "      <td>48618</td>\n",
       "      <td>125920</td>\n",
       "      <td>5201</td>\n",
       "      <td>13471</td>\n",
       "      <td>13</td>\n",
       "    </tr>\n",
       "    <tr>\n",
       "      <td>33</td>\n",
       "      <td>North Dakota</td>\n",
       "      <td>NaN</td>\n",
       "      <td>ND</td>\n",
       "      <td>Bismarck</td>\n",
       "      <td>Fargo</td>\n",
       "      <td>Nov 2, 1889</td>\n",
       "      <td>762062</td>\n",
       "      <td>70698</td>\n",
       "      <td>183108</td>\n",
       "      <td>69001</td>\n",
       "      <td>178711</td>\n",
       "      <td>1698</td>\n",
       "      <td>4397</td>\n",
       "      <td>1</td>\n",
       "    </tr>\n",
       "    <tr>\n",
       "      <td>34</td>\n",
       "      <td>Ohio</td>\n",
       "      <td>NaN</td>\n",
       "      <td>OH</td>\n",
       "      <td>Columbus</td>\n",
       "      <td>Columbus</td>\n",
       "      <td>Mar 1, 1803</td>\n",
       "      <td>11689100</td>\n",
       "      <td>44826</td>\n",
       "      <td>116098</td>\n",
       "      <td>40861</td>\n",
       "      <td>105829</td>\n",
       "      <td>3965</td>\n",
       "      <td>10269</td>\n",
       "      <td>16</td>\n",
       "    </tr>\n",
       "    <tr>\n",
       "      <td>35</td>\n",
       "      <td>Oklahoma</td>\n",
       "      <td>NaN</td>\n",
       "      <td>OK</td>\n",
       "      <td>Oklahoma City</td>\n",
       "      <td>Oklahoma City</td>\n",
       "      <td>Nov 16, 1907</td>\n",
       "      <td>3956971</td>\n",
       "      <td>69899</td>\n",
       "      <td>181037</td>\n",
       "      <td>68595</td>\n",
       "      <td>177660</td>\n",
       "      <td>1304</td>\n",
       "      <td>3377</td>\n",
       "      <td>5</td>\n",
       "    </tr>\n",
       "    <tr>\n",
       "      <td>36</td>\n",
       "      <td>Oregon</td>\n",
       "      <td>NaN</td>\n",
       "      <td>OR</td>\n",
       "      <td>Salem</td>\n",
       "      <td>Portland</td>\n",
       "      <td>Feb 14, 1859</td>\n",
       "      <td>4217737</td>\n",
       "      <td>98379</td>\n",
       "      <td>254799</td>\n",
       "      <td>95988</td>\n",
       "      <td>248608</td>\n",
       "      <td>2391</td>\n",
       "      <td>6191</td>\n",
       "      <td>5</td>\n",
       "    </tr>\n",
       "    <tr>\n",
       "      <td>37</td>\n",
       "      <td>Pennsylvania[upper-alpha 3]</td>\n",
       "      <td>NaN</td>\n",
       "      <td>PA</td>\n",
       "      <td>Harrisburg</td>\n",
       "      <td>Philadelphia</td>\n",
       "      <td>Dec 12, 1787</td>\n",
       "      <td>12801989</td>\n",
       "      <td>46054</td>\n",
       "      <td>119280</td>\n",
       "      <td>44743</td>\n",
       "      <td>115883</td>\n",
       "      <td>1312</td>\n",
       "      <td>3397</td>\n",
       "      <td>18</td>\n",
       "    </tr>\n",
       "    <tr>\n",
       "      <td>38</td>\n",
       "      <td>Rhode Island</td>\n",
       "      <td>NaN</td>\n",
       "      <td>RI</td>\n",
       "      <td>Providence</td>\n",
       "      <td>Providence</td>\n",
       "      <td>May 29, 1790</td>\n",
       "      <td>1059361</td>\n",
       "      <td>1545</td>\n",
       "      <td>4001</td>\n",
       "      <td>1034</td>\n",
       "      <td>2678</td>\n",
       "      <td>511</td>\n",
       "      <td>1324</td>\n",
       "      <td>2</td>\n",
       "    </tr>\n",
       "    <tr>\n",
       "      <td>39</td>\n",
       "      <td>South Carolina</td>\n",
       "      <td>NaN</td>\n",
       "      <td>SC</td>\n",
       "      <td>Columbia</td>\n",
       "      <td>Charleston</td>\n",
       "      <td>May 23, 1788</td>\n",
       "      <td>5148714</td>\n",
       "      <td>32020</td>\n",
       "      <td>82933</td>\n",
       "      <td>30061</td>\n",
       "      <td>77857</td>\n",
       "      <td>1960</td>\n",
       "      <td>5076</td>\n",
       "      <td>7</td>\n",
       "    </tr>\n",
       "    <tr>\n",
       "      <td>40</td>\n",
       "      <td>South Dakota</td>\n",
       "      <td>NaN</td>\n",
       "      <td>SD</td>\n",
       "      <td>Pierre</td>\n",
       "      <td>Sioux Falls</td>\n",
       "      <td>Nov 2, 1889</td>\n",
       "      <td>884659</td>\n",
       "      <td>77116</td>\n",
       "      <td>199729</td>\n",
       "      <td>75811</td>\n",
       "      <td>196350</td>\n",
       "      <td>1305</td>\n",
       "      <td>3379</td>\n",
       "      <td>1</td>\n",
       "    </tr>\n",
       "    <tr>\n",
       "      <td>41</td>\n",
       "      <td>Tennessee</td>\n",
       "      <td>NaN</td>\n",
       "      <td>TN</td>\n",
       "      <td>Nashville</td>\n",
       "      <td>Nashville</td>\n",
       "      <td>Jun 1, 1796</td>\n",
       "      <td>6829174</td>\n",
       "      <td>42144</td>\n",
       "      <td>109153</td>\n",
       "      <td>41235</td>\n",
       "      <td>106798</td>\n",
       "      <td>909</td>\n",
       "      <td>2355</td>\n",
       "      <td>9</td>\n",
       "    </tr>\n",
       "    <tr>\n",
       "      <td>42</td>\n",
       "      <td>Texas</td>\n",
       "      <td>NaN</td>\n",
       "      <td>TX</td>\n",
       "      <td>Austin</td>\n",
       "      <td>Houston</td>\n",
       "      <td>Dec 29, 1845</td>\n",
       "      <td>28995881</td>\n",
       "      <td>268596</td>\n",
       "      <td>695662</td>\n",
       "      <td>261232</td>\n",
       "      <td>676587</td>\n",
       "      <td>7365</td>\n",
       "      <td>19075</td>\n",
       "      <td>36</td>\n",
       "    </tr>\n",
       "    <tr>\n",
       "      <td>43</td>\n",
       "      <td>Utah</td>\n",
       "      <td>NaN</td>\n",
       "      <td>UT</td>\n",
       "      <td>Salt Lake City</td>\n",
       "      <td>Salt Lake City</td>\n",
       "      <td>Jan 4, 1896</td>\n",
       "      <td>3205958</td>\n",
       "      <td>84897</td>\n",
       "      <td>219882</td>\n",
       "      <td>82170</td>\n",
       "      <td>212818</td>\n",
       "      <td>2727</td>\n",
       "      <td>7064</td>\n",
       "      <td>4</td>\n",
       "    </tr>\n",
       "    <tr>\n",
       "      <td>44</td>\n",
       "      <td>Vermont</td>\n",
       "      <td>NaN</td>\n",
       "      <td>VT</td>\n",
       "      <td>Montpelier</td>\n",
       "      <td>Burlington</td>\n",
       "      <td>Mar 4, 1791</td>\n",
       "      <td>623989</td>\n",
       "      <td>9616</td>\n",
       "      <td>24906</td>\n",
       "      <td>9217</td>\n",
       "      <td>23871</td>\n",
       "      <td>400</td>\n",
       "      <td>1035</td>\n",
       "      <td>1</td>\n",
       "    </tr>\n",
       "    <tr>\n",
       "      <td>45</td>\n",
       "      <td>Virginia[upper-alpha 3]</td>\n",
       "      <td>NaN</td>\n",
       "      <td>VA</td>\n",
       "      <td>Richmond</td>\n",
       "      <td>Virginia Beach</td>\n",
       "      <td>Jun 25, 1788</td>\n",
       "      <td>8535519</td>\n",
       "      <td>42775</td>\n",
       "      <td>110787</td>\n",
       "      <td>39490</td>\n",
       "      <td>102279</td>\n",
       "      <td>3285</td>\n",
       "      <td>8508</td>\n",
       "      <td>11</td>\n",
       "    </tr>\n",
       "    <tr>\n",
       "      <td>46</td>\n",
       "      <td>Washington</td>\n",
       "      <td>NaN</td>\n",
       "      <td>WA</td>\n",
       "      <td>Olympia</td>\n",
       "      <td>Seattle</td>\n",
       "      <td>Nov 11, 1889</td>\n",
       "      <td>7614893</td>\n",
       "      <td>71298</td>\n",
       "      <td>184661</td>\n",
       "      <td>66456</td>\n",
       "      <td>172119</td>\n",
       "      <td>4842</td>\n",
       "      <td>12542</td>\n",
       "      <td>10</td>\n",
       "    </tr>\n",
       "    <tr>\n",
       "      <td>47</td>\n",
       "      <td>West Virginia</td>\n",
       "      <td>NaN</td>\n",
       "      <td>WV</td>\n",
       "      <td>Charleston</td>\n",
       "      <td>Charleston</td>\n",
       "      <td>Jun 20, 1863</td>\n",
       "      <td>1792147</td>\n",
       "      <td>24230</td>\n",
       "      <td>62756</td>\n",
       "      <td>24038</td>\n",
       "      <td>62259</td>\n",
       "      <td>192</td>\n",
       "      <td>497</td>\n",
       "      <td>3</td>\n",
       "    </tr>\n",
       "    <tr>\n",
       "      <td>48</td>\n",
       "      <td>Wisconsin</td>\n",
       "      <td>NaN</td>\n",
       "      <td>WI</td>\n",
       "      <td>Madison</td>\n",
       "      <td>Milwaukee</td>\n",
       "      <td>May 29, 1848</td>\n",
       "      <td>5822434</td>\n",
       "      <td>65496</td>\n",
       "      <td>169635</td>\n",
       "      <td>54158</td>\n",
       "      <td>140268</td>\n",
       "      <td>11339</td>\n",
       "      <td>29367</td>\n",
       "      <td>8</td>\n",
       "    </tr>\n",
       "    <tr>\n",
       "      <td>49</td>\n",
       "      <td>Wyoming</td>\n",
       "      <td>NaN</td>\n",
       "      <td>WY</td>\n",
       "      <td>Cheyenne</td>\n",
       "      <td>Cheyenne</td>\n",
       "      <td>Jul 10, 1890</td>\n",
       "      <td>578759</td>\n",
       "      <td>97813</td>\n",
       "      <td>253335</td>\n",
       "      <td>97093</td>\n",
       "      <td>251470</td>\n",
       "      <td>720</td>\n",
       "      <td>1864</td>\n",
       "      <td>1</td>\n",
       "    </tr>\n",
       "  </tbody>\n",
       "</table>\n",
       "</div>"
      ],
      "text/plain": [
       "          Name &postal abbs. [1]                          Unnamed: 2_level_0  \\\n",
       "          Name &postal abbs. [1] Name &postal abbs. [1].1 Unnamed: 2_level_1   \n",
       "0                        Alabama                      NaN                 AL   \n",
       "1                         Alaska                      NaN                 AK   \n",
       "2                        Arizona                      NaN                 AZ   \n",
       "3                       Arkansas                      NaN                 AR   \n",
       "4                     California                      NaN                 CA   \n",
       "5                       Colorado                      NaN                 CO   \n",
       "6                    Connecticut                      NaN                 CT   \n",
       "7                       Delaware                      NaN                 DE   \n",
       "8                        Florida                      NaN                 FL   \n",
       "9                        Georgia                      NaN                 GA   \n",
       "10                        Hawaii                      NaN                 HI   \n",
       "11                         Idaho                      NaN                 ID   \n",
       "12                      Illinois                      NaN                 IL   \n",
       "13                       Indiana                      NaN                 IN   \n",
       "14                          Iowa                      NaN                 IA   \n",
       "15                        Kansas                      NaN                 KS   \n",
       "16       Kentucky[upper-alpha 3]                      NaN                 KY   \n",
       "17                     Louisiana                      NaN                 LA   \n",
       "18                         Maine                      NaN                 ME   \n",
       "19                      Maryland                      NaN                 MD   \n",
       "20  Massachusetts[upper-alpha 3]                      NaN                 MA   \n",
       "21                      Michigan                      NaN                 MI   \n",
       "22                     Minnesota                      NaN                 MN   \n",
       "23                   Mississippi                      NaN                 MS   \n",
       "24                      Missouri                      NaN                 MO   \n",
       "25                       Montana                      NaN                 MT   \n",
       "26                      Nebraska                      NaN                 NE   \n",
       "27                        Nevada                      NaN                 NV   \n",
       "28                 New Hampshire                      NaN                 NH   \n",
       "29                    New Jersey                      NaN                 NJ   \n",
       "30                    New Mexico                      NaN                 NM   \n",
       "31                      New York                      NaN                 NY   \n",
       "32                North Carolina                      NaN                 NC   \n",
       "33                  North Dakota                      NaN                 ND   \n",
       "34                          Ohio                      NaN                 OH   \n",
       "35                      Oklahoma                      NaN                 OK   \n",
       "36                        Oregon                      NaN                 OR   \n",
       "37   Pennsylvania[upper-alpha 3]                      NaN                 PA   \n",
       "38                  Rhode Island                      NaN                 RI   \n",
       "39                South Carolina                      NaN                 SC   \n",
       "40                  South Dakota                      NaN                 SD   \n",
       "41                     Tennessee                      NaN                 TN   \n",
       "42                         Texas                      NaN                 TX   \n",
       "43                          Utah                      NaN                 UT   \n",
       "44                       Vermont                      NaN                 VT   \n",
       "45       Virginia[upper-alpha 3]                      NaN                 VA   \n",
       "46                    Washington                      NaN                 WA   \n",
       "47                 West Virginia                      NaN                 WV   \n",
       "48                     Wisconsin                      NaN                 WI   \n",
       "49                       Wyoming                      NaN                 WY   \n",
       "\n",
       "            Cities                            Established[upper-alpha 1]  \\\n",
       "           Capital Largest (by population)[5] Established[upper-alpha 1]   \n",
       "0       Montgomery                 Birmingham               Dec 14, 1819   \n",
       "1           Juneau                  Anchorage                Jan 3, 1959   \n",
       "2          Phoenix                    Phoenix               Feb 14, 1912   \n",
       "3      Little Rock                Little Rock               Jun 15, 1836   \n",
       "4       Sacramento                Los Angeles                Sep 9, 1850   \n",
       "5           Denver                     Denver                Aug 1, 1876   \n",
       "6         Hartford                 Bridgeport                Jan 9, 1788   \n",
       "7            Dover                 Wilmington                Dec 7, 1787   \n",
       "8      Tallahassee               Jacksonville                Mar 3, 1845   \n",
       "9          Atlanta                    Atlanta                Jan 2, 1788   \n",
       "10        Honolulu                   Honolulu               Aug 21, 1959   \n",
       "11           Boise                      Boise                Jul 3, 1890   \n",
       "12     Springfield                    Chicago                Dec 3, 1818   \n",
       "13    Indianapolis               Indianapolis               Dec 11, 1816   \n",
       "14      Des Moines                 Des Moines               Dec 28, 1846   \n",
       "15          Topeka                    Wichita               Jan 29, 1861   \n",
       "16       Frankfort                 Louisville                Jun 1, 1792   \n",
       "17     Baton Rouge                New Orleans               Apr 30, 1812   \n",
       "18         Augusta                   Portland               Mar 15, 1820   \n",
       "19       Annapolis                  Baltimore               Apr 28, 1788   \n",
       "20          Boston                     Boston                Feb 6, 1788   \n",
       "21         Lansing                    Detroit               Jan 26, 1837   \n",
       "22        St. Paul                Minneapolis               May 11, 1858   \n",
       "23         Jackson                    Jackson               Dec 10, 1817   \n",
       "24  Jefferson City                Kansas City               Aug 10, 1821   \n",
       "25          Helena                   Billings                Nov 8, 1889   \n",
       "26         Lincoln                      Omaha                Mar 1, 1867   \n",
       "27     Carson City                  Las Vegas               Oct 31, 1864   \n",
       "28         Concord                 Manchester               Jun 21, 1788   \n",
       "29         Trenton                     Newark               Dec 18, 1787   \n",
       "30        Santa Fe                Albuquerque                Jan 6, 1912   \n",
       "31          Albany                   New York               Jul 26, 1788   \n",
       "32         Raleigh                  Charlotte               Nov 21, 1789   \n",
       "33        Bismarck                      Fargo                Nov 2, 1889   \n",
       "34        Columbus                   Columbus                Mar 1, 1803   \n",
       "35   Oklahoma City              Oklahoma City               Nov 16, 1907   \n",
       "36           Salem                   Portland               Feb 14, 1859   \n",
       "37      Harrisburg               Philadelphia               Dec 12, 1787   \n",
       "38      Providence                 Providence               May 29, 1790   \n",
       "39        Columbia                 Charleston               May 23, 1788   \n",
       "40          Pierre                Sioux Falls                Nov 2, 1889   \n",
       "41       Nashville                  Nashville                Jun 1, 1796   \n",
       "42          Austin                    Houston               Dec 29, 1845   \n",
       "43  Salt Lake City             Salt Lake City                Jan 4, 1896   \n",
       "44      Montpelier                 Burlington                Mar 4, 1791   \n",
       "45        Richmond             Virginia Beach               Jun 25, 1788   \n",
       "46         Olympia                    Seattle               Nov 11, 1889   \n",
       "47      Charleston                 Charleston               Jun 20, 1863   \n",
       "48         Madison                  Milwaukee               May 29, 1848   \n",
       "49        Cheyenne                   Cheyenne               Jul 10, 1890   \n",
       "\n",
       "   Population[upper-alpha 2][3] Total area[4]          Land area[4]           \\\n",
       "   Population[upper-alpha 2][3]           mi2      km2          mi2      km2   \n",
       "0                       4903185         52420   135767        50645   131171   \n",
       "1                        731545        665384  1723337       570641  1477953   \n",
       "2                       7278717        113990   295234       113594   294207   \n",
       "3                       3017804         53179   137732        52035   134771   \n",
       "4                      39512223        163695   423967       155779   403466   \n",
       "5                       5758736        104094   269601       103642   268431   \n",
       "6                       3565278          5543    14357         4842    12542   \n",
       "7                        973764          2489     6446         1949     5047   \n",
       "8                      21477737         65758   170312        53625   138887   \n",
       "9                      10617423         59425   153910        57513   148959   \n",
       "10                      1415872         10932    28313         6423    16635   \n",
       "11                      1787065         83569   216443        82643   214045   \n",
       "12                     12671821         57914   149995        55519   143793   \n",
       "13                      6732219         36420    94326        35826    92789   \n",
       "14                      3155070         56273   145746        55857   144669   \n",
       "15                      2913314         82278   213100        81759   211754   \n",
       "16                      4467673         40408   104656        39486   102269   \n",
       "17                      4648794         52378   135659        43204   111898   \n",
       "18                      1344212         35380    91633        30843    79883   \n",
       "19                      6045680         12406    32131         9707    25142   \n",
       "20                      6892503         10554    27336         7800    20202   \n",
       "21                      9986857         96714   250487        56539   146435   \n",
       "22                      5639632         86936   225163        79627   206232   \n",
       "23                      2976149         48432   125438        46923   121531   \n",
       "24                      6137428         69707   180540        68742   178040   \n",
       "25                      1068778        147040   380831       145546   376962   \n",
       "26                      1934408         77348   200330        76824   198974   \n",
       "27                      3080156        110572   286380       109781   284332   \n",
       "28                      1359711          9349    24214         8953    23187   \n",
       "29                      8882190          8723    22591         7354    19047   \n",
       "30                      2096829        121590   314917       121298   314161   \n",
       "31                     19453561         54555   141297        47126   122057   \n",
       "32                     10488084         53819   139391        48618   125920   \n",
       "33                       762062         70698   183108        69001   178711   \n",
       "34                     11689100         44826   116098        40861   105829   \n",
       "35                      3956971         69899   181037        68595   177660   \n",
       "36                      4217737         98379   254799        95988   248608   \n",
       "37                     12801989         46054   119280        44743   115883   \n",
       "38                      1059361          1545     4001         1034     2678   \n",
       "39                      5148714         32020    82933        30061    77857   \n",
       "40                       884659         77116   199729        75811   196350   \n",
       "41                      6829174         42144   109153        41235   106798   \n",
       "42                     28995881        268596   695662       261232   676587   \n",
       "43                      3205958         84897   219882        82170   212818   \n",
       "44                       623989          9616    24906         9217    23871   \n",
       "45                      8535519         42775   110787        39490   102279   \n",
       "46                      7614893         71298   184661        66456   172119   \n",
       "47                      1792147         24230    62756        24038    62259   \n",
       "48                      5822434         65496   169635        54158   140268   \n",
       "49                       578759         97813   253335        97093   251470   \n",
       "\n",
       "   Water area[4]         Numberof Reps.  \n",
       "             mi2     km2 Numberof Reps.  \n",
       "0           1775    4597              7  \n",
       "1          94743  245384              1  \n",
       "2            396    1026              9  \n",
       "3           1143    2961              4  \n",
       "4           7916   20501             53  \n",
       "5            452    1170              7  \n",
       "6            701    1816              5  \n",
       "7            540    1399              1  \n",
       "8          12133   31424             27  \n",
       "9           1912    4951             14  \n",
       "10          4509   11678              2  \n",
       "11           926    2398              2  \n",
       "12          2395    6202             18  \n",
       "13           593    1537              9  \n",
       "14           416    1077              4  \n",
       "15           520    1346              4  \n",
       "16           921    2387              6  \n",
       "17          9174   23761              6  \n",
       "18          4537   11750              2  \n",
       "19          2699    6990              8  \n",
       "20          2754    7134              9  \n",
       "21         40175  104052             14  \n",
       "22          7309   18930              8  \n",
       "23          1508    3907              4  \n",
       "24           965    2501              8  \n",
       "25          1494    3869              1  \n",
       "26           524    1356              3  \n",
       "27           791    2048              4  \n",
       "28           397    1027              2  \n",
       "29          1368    3544             12  \n",
       "30           292     757              3  \n",
       "31          7429   19240             27  \n",
       "32          5201   13471             13  \n",
       "33          1698    4397              1  \n",
       "34          3965   10269             16  \n",
       "35          1304    3377              5  \n",
       "36          2391    6191              5  \n",
       "37          1312    3397             18  \n",
       "38           511    1324              2  \n",
       "39          1960    5076              7  \n",
       "40          1305    3379              1  \n",
       "41           909    2355              9  \n",
       "42          7365   19075             36  \n",
       "43          2727    7064              4  \n",
       "44           400    1035              1  \n",
       "45          3285    8508             11  \n",
       "46          4842   12542             10  \n",
       "47           192     497              3  \n",
       "48         11339   29367              8  \n",
       "49           720    1864              1  "
      ]
     },
     "execution_count": 8,
     "metadata": {},
     "output_type": "execute_result"
    }
   ],
   "source": [
    "stany[0]"
   ]
  },
  {
   "cell_type": "markdown",
   "metadata": {},
   "source": [
    "**Przykład z wykorzystaniem wizualizacji**"
   ]
  },
  {
   "cell_type": "code",
   "execution_count": 9,
   "metadata": {
    "scrolled": true
   },
   "outputs": [
    {
     "data": {
      "text/html": [
       "<div>\n",
       "<style scoped>\n",
       "    .dataframe tbody tr th:only-of-type {\n",
       "        vertical-align: middle;\n",
       "    }\n",
       "\n",
       "    .dataframe tbody tr th {\n",
       "        vertical-align: top;\n",
       "    }\n",
       "\n",
       "    .dataframe thead th {\n",
       "        text-align: right;\n",
       "    }\n",
       "</style>\n",
       "<table border=\"1\" class=\"dataframe\">\n",
       "  <thead>\n",
       "    <tr style=\"text-align: right;\">\n",
       "      <th></th>\n",
       "      <th>Kod</th>\n",
       "      <th>Nazwa</th>\n",
       "      <th>grunty orne ogółem</th>\n",
       "      <th>grunty orne dobre (klasy I, II, IIIa)</th>\n",
       "      <th>grunty orne średnie (klasy IIIb, IV)</th>\n",
       "      <th>grunty orne słabe (klasy V, VI)</th>\n",
       "      <th>łąki ogółem</th>\n",
       "      <th>łąki dobre</th>\n",
       "      <th>łąki słabe</th>\n",
       "    </tr>\n",
       "  </thead>\n",
       "  <tbody>\n",
       "    <tr>\n",
       "      <td>0</td>\n",
       "      <td>NaN</td>\n",
       "      <td>NaN</td>\n",
       "      <td>2017</td>\n",
       "      <td>2017</td>\n",
       "      <td>2017</td>\n",
       "      <td>2017</td>\n",
       "      <td>2017</td>\n",
       "      <td>2017</td>\n",
       "      <td>2017</td>\n",
       "    </tr>\n",
       "    <tr>\n",
       "      <td>1</td>\n",
       "      <td>NaN</td>\n",
       "      <td>NaN</td>\n",
       "      <td>[zł]</td>\n",
       "      <td>[zł]</td>\n",
       "      <td>[zł]</td>\n",
       "      <td>[zł]</td>\n",
       "      <td>[zł]</td>\n",
       "      <td>[zł]</td>\n",
       "      <td>[zł]</td>\n",
       "    </tr>\n",
       "    <tr>\n",
       "      <td>2</td>\n",
       "      <td>0.0</td>\n",
       "      <td>POLSKA</td>\n",
       "      <td>41288</td>\n",
       "      <td>52586</td>\n",
       "      <td>42196</td>\n",
       "      <td>29277</td>\n",
       "      <td>25681</td>\n",
       "      <td>27655</td>\n",
       "      <td>22320</td>\n",
       "    </tr>\n",
       "    <tr>\n",
       "      <td>3</td>\n",
       "      <td>200000.0</td>\n",
       "      <td>DOLNOŚLĄSKIE</td>\n",
       "      <td>36591</td>\n",
       "      <td>47622</td>\n",
       "      <td>36422</td>\n",
       "      <td>26295</td>\n",
       "      <td>29949</td>\n",
       "      <td>31636</td>\n",
       "      <td>20666</td>\n",
       "    </tr>\n",
       "    <tr>\n",
       "      <td>4</td>\n",
       "      <td>400000.0</td>\n",
       "      <td>KUJAWSKO-POMORSKIE</td>\n",
       "      <td>55784</td>\n",
       "      <td>66686</td>\n",
       "      <td>55657</td>\n",
       "      <td>37706</td>\n",
       "      <td>33374</td>\n",
       "      <td>35828</td>\n",
       "      <td>27944</td>\n",
       "    </tr>\n",
       "    <tr>\n",
       "      <td>5</td>\n",
       "      <td>600000.0</td>\n",
       "      <td>LUBELSKIE</td>\n",
       "      <td>30680</td>\n",
       "      <td>43869</td>\n",
       "      <td>30297</td>\n",
       "      <td>19315</td>\n",
       "      <td>14607</td>\n",
       "      <td>15898</td>\n",
       "      <td>12166</td>\n",
       "    </tr>\n",
       "    <tr>\n",
       "      <td>6</td>\n",
       "      <td>800000.0</td>\n",
       "      <td>LUBUSKIE</td>\n",
       "      <td>28800</td>\n",
       "      <td>41961</td>\n",
       "      <td>30347</td>\n",
       "      <td>24100</td>\n",
       "      <td>19755</td>\n",
       "      <td>20290</td>\n",
       "      <td>19000</td>\n",
       "    </tr>\n",
       "    <tr>\n",
       "      <td>7</td>\n",
       "      <td>1000000.0</td>\n",
       "      <td>ŁÓDZKIE</td>\n",
       "      <td>36074</td>\n",
       "      <td>50128</td>\n",
       "      <td>38074</td>\n",
       "      <td>26065</td>\n",
       "      <td>22771</td>\n",
       "      <td>25294</td>\n",
       "      <td>18135</td>\n",
       "    </tr>\n",
       "    <tr>\n",
       "      <td>8</td>\n",
       "      <td>1200000.0</td>\n",
       "      <td>MAŁOPOLSKIE</td>\n",
       "      <td>30857</td>\n",
       "      <td>37962</td>\n",
       "      <td>28552</td>\n",
       "      <td>22540</td>\n",
       "      <td>21695</td>\n",
       "      <td>22528</td>\n",
       "      <td>16647</td>\n",
       "    </tr>\n",
       "    <tr>\n",
       "      <td>9</td>\n",
       "      <td>1400000.0</td>\n",
       "      <td>MAZOWIECKIE</td>\n",
       "      <td>39193</td>\n",
       "      <td>55444</td>\n",
       "      <td>39975</td>\n",
       "      <td>29729</td>\n",
       "      <td>28997</td>\n",
       "      <td>31257</td>\n",
       "      <td>25993</td>\n",
       "    </tr>\n",
       "    <tr>\n",
       "      <td>10</td>\n",
       "      <td>1600000.0</td>\n",
       "      <td>OPOLSKIE</td>\n",
       "      <td>46682</td>\n",
       "      <td>67012</td>\n",
       "      <td>43514</td>\n",
       "      <td>29829</td>\n",
       "      <td>22273</td>\n",
       "      <td>24355</td>\n",
       "      <td>20235</td>\n",
       "    </tr>\n",
       "    <tr>\n",
       "      <td>11</td>\n",
       "      <td>1800000.0</td>\n",
       "      <td>PODKARPACKIE</td>\n",
       "      <td>24185</td>\n",
       "      <td>30010</td>\n",
       "      <td>23830</td>\n",
       "      <td>17072</td>\n",
       "      <td>18020</td>\n",
       "      <td>19403</td>\n",
       "      <td>14022</td>\n",
       "    </tr>\n",
       "    <tr>\n",
       "      <td>12</td>\n",
       "      <td>2000000.0</td>\n",
       "      <td>PODLASKIE</td>\n",
       "      <td>37643</td>\n",
       "      <td>51860</td>\n",
       "      <td>40433</td>\n",
       "      <td>30726</td>\n",
       "      <td>30323</td>\n",
       "      <td>31949</td>\n",
       "      <td>25841</td>\n",
       "    </tr>\n",
       "    <tr>\n",
       "      <td>13</td>\n",
       "      <td>2200000.0</td>\n",
       "      <td>POMORSKIE</td>\n",
       "      <td>39539</td>\n",
       "      <td>59626</td>\n",
       "      <td>38971</td>\n",
       "      <td>31834</td>\n",
       "      <td>27725</td>\n",
       "      <td>33812</td>\n",
       "      <td>23666</td>\n",
       "    </tr>\n",
       "    <tr>\n",
       "      <td>14</td>\n",
       "      <td>2400000.0</td>\n",
       "      <td>ŚLĄSKIE</td>\n",
       "      <td>35780</td>\n",
       "      <td>53023</td>\n",
       "      <td>38115</td>\n",
       "      <td>22666</td>\n",
       "      <td>23368</td>\n",
       "      <td>27323</td>\n",
       "      <td>19411</td>\n",
       "    </tr>\n",
       "    <tr>\n",
       "      <td>15</td>\n",
       "      <td>2600000.0</td>\n",
       "      <td>ŚWIĘTOKRZYSKIE</td>\n",
       "      <td>27931</td>\n",
       "      <td>36946</td>\n",
       "      <td>24953</td>\n",
       "      <td>17379</td>\n",
       "      <td>14356</td>\n",
       "      <td>15032</td>\n",
       "      <td>12680</td>\n",
       "    </tr>\n",
       "    <tr>\n",
       "      <td>16</td>\n",
       "      <td>2800000.0</td>\n",
       "      <td>WARMIŃSKO-MAZURSKIE</td>\n",
       "      <td>41444</td>\n",
       "      <td>50325</td>\n",
       "      <td>43279</td>\n",
       "      <td>33036</td>\n",
       "      <td>21326</td>\n",
       "      <td>23382</td>\n",
       "      <td>18084</td>\n",
       "    </tr>\n",
       "    <tr>\n",
       "      <td>17</td>\n",
       "      <td>3000000.0</td>\n",
       "      <td>WIELKOPOLSKIE</td>\n",
       "      <td>56721</td>\n",
       "      <td>71724</td>\n",
       "      <td>59036</td>\n",
       "      <td>41137</td>\n",
       "      <td>32011</td>\n",
       "      <td>35481</td>\n",
       "      <td>27191</td>\n",
       "    </tr>\n",
       "    <tr>\n",
       "      <td>18</td>\n",
       "      <td>3200000.0</td>\n",
       "      <td>ZACHODNIOPOMORSKIE</td>\n",
       "      <td>28693</td>\n",
       "      <td>37205</td>\n",
       "      <td>28686</td>\n",
       "      <td>22235</td>\n",
       "      <td>16614</td>\n",
       "      <td>17494</td>\n",
       "      <td>15361</td>\n",
       "    </tr>\n",
       "  </tbody>\n",
       "</table>\n",
       "</div>"
      ],
      "text/plain": [
       "          Kod                Nazwa grunty orne ogółem  \\\n",
       "0         NaN                  NaN               2017   \n",
       "1         NaN                  NaN               [zł]   \n",
       "2         0.0               POLSKA              41288   \n",
       "3    200000.0         DOLNOŚLĄSKIE              36591   \n",
       "4    400000.0   KUJAWSKO-POMORSKIE              55784   \n",
       "5    600000.0            LUBELSKIE              30680   \n",
       "6    800000.0             LUBUSKIE              28800   \n",
       "7   1000000.0              ŁÓDZKIE              36074   \n",
       "8   1200000.0          MAŁOPOLSKIE              30857   \n",
       "9   1400000.0          MAZOWIECKIE              39193   \n",
       "10  1600000.0             OPOLSKIE              46682   \n",
       "11  1800000.0         PODKARPACKIE              24185   \n",
       "12  2000000.0            PODLASKIE              37643   \n",
       "13  2200000.0            POMORSKIE              39539   \n",
       "14  2400000.0              ŚLĄSKIE              35780   \n",
       "15  2600000.0       ŚWIĘTOKRZYSKIE              27931   \n",
       "16  2800000.0  WARMIŃSKO-MAZURSKIE              41444   \n",
       "17  3000000.0        WIELKOPOLSKIE              56721   \n",
       "18  3200000.0   ZACHODNIOPOMORSKIE              28693   \n",
       "\n",
       "   grunty orne dobre (klasy I, II, IIIa) grunty orne średnie (klasy IIIb, IV)  \\\n",
       "0                                   2017                                 2017   \n",
       "1                                   [zł]                                 [zł]   \n",
       "2                                  52586                                42196   \n",
       "3                                  47622                                36422   \n",
       "4                                  66686                                55657   \n",
       "5                                  43869                                30297   \n",
       "6                                  41961                                30347   \n",
       "7                                  50128                                38074   \n",
       "8                                  37962                                28552   \n",
       "9                                  55444                                39975   \n",
       "10                                 67012                                43514   \n",
       "11                                 30010                                23830   \n",
       "12                                 51860                                40433   \n",
       "13                                 59626                                38971   \n",
       "14                                 53023                                38115   \n",
       "15                                 36946                                24953   \n",
       "16                                 50325                                43279   \n",
       "17                                 71724                                59036   \n",
       "18                                 37205                                28686   \n",
       "\n",
       "   grunty orne słabe (klasy V, VI) łąki ogółem łąki dobre łąki słabe  \n",
       "0                             2017        2017       2017       2017  \n",
       "1                             [zł]        [zł]       [zł]       [zł]  \n",
       "2                            29277       25681      27655      22320  \n",
       "3                            26295       29949      31636      20666  \n",
       "4                            37706       33374      35828      27944  \n",
       "5                            19315       14607      15898      12166  \n",
       "6                            24100       19755      20290      19000  \n",
       "7                            26065       22771      25294      18135  \n",
       "8                            22540       21695      22528      16647  \n",
       "9                            29729       28997      31257      25993  \n",
       "10                           29829       22273      24355      20235  \n",
       "11                           17072       18020      19403      14022  \n",
       "12                           30726       30323      31949      25841  \n",
       "13                           31834       27725      33812      23666  \n",
       "14                           22666       23368      27323      19411  \n",
       "15                           17379       14356      15032      12680  \n",
       "16                           33036       21326      23382      18084  \n",
       "17                           41137       32011      35481      27191  \n",
       "18                           22235       16614      17494      15361  "
      ]
     },
     "execution_count": 9,
     "metadata": {},
     "output_type": "execute_result"
    }
   ],
   "source": [
    "grunty_xls = pd.read_excel('grunty.xlsx', sheet_name='TABLICA')\n",
    "grunty_xls"
   ]
  },
  {
   "cell_type": "code",
   "execution_count": 90,
   "metadata": {
    "scrolled": true
   },
   "outputs": [
    {
     "data": {
      "image/png": "[encoded data removed]",
      "text/plain": [
       "<Figure size 432x288 with 1 Axes>"
      ]
     },
     "metadata": {
      "needs_background": "light"
     },
     "output_type": "display_data"
    }
   ],
   "source": [
    "import matplotlib.pyplot as plt\n",
    "\n",
    "grunty = grunty_xls['grunty orne ogółem'][3:]\n",
    "nazwa = grunty_xls['Nazwa'][3:]\n",
    "\n",
    "plt.plot(range(16), grunty, \"o\")\n",
    "plt.xticks(range(16), nazwa, rotation=70)\n",
    "plt.title('grunty orne ogółem')\n",
    "plt.ylabel('zł', fontsize=15)\n",
    "\n",
    "plt.show()"
   ]
  },
  {
   "cell_type": "code",
   "execution_count": 94,
   "metadata": {},
   "outputs": [
    {
     "data": {
      "text/plain": [
       "<matplotlib.axes._subplots.AxesSubplot at 0x29397f321c8>"
      ]
     },
     "execution_count": 94,
     "metadata": {},
     "output_type": "execute_result"
    },
    {
     "data": {
      "image/png": "[encoded data removed]",
      "text/plain": [
       "<Figure size 432x288 with 1 Axes>"
      ]
     },
     "metadata": {
      "needs_background": "light"
     },
     "output_type": "display_data"
    }
   ],
   "source": [
    "grunty.plot()"
   ]
  },
  {
   "cell_type": "markdown",
   "metadata": {},
   "source": [
    "Więcej na temat wykresów w `pandas` [https://pandas.pydata.org/pandas-docs/version/1.2.2/getting_started/intro_tutorials/04_plotting.html](https://pandas.pydata.org/pandas-docs/version/1.2.2/getting_started/intro_tutorials/04_plotting.html)"
   ]
  },
  {
   "cell_type": "markdown",
   "metadata": {},
   "source": [
    "### Dziękuję za uwagę"
   ]
  }
 ],
 "metadata": {
  "kernelspec": {
   "display_name": "Python 3 (ipykernel)",
   "language": "python",
   "name": "python3"
  },
  "language_info": {
   "codemirror_mode": {
    "name": "ipython",
    "version": 3
   },
   "file_extension": ".py",
   "mimetype": "text/x-python",
   "name": "python",
   "nbconvert_exporter": "python",
   "pygments_lexer": "ipython3",
   "version": "3.10.0 (tags/v3.10.0:b494f59, Oct  4 2021, 19:00:18) [MSC v.1929 64 bit (AMD64)]"
  },
  "vscode": {
   "interpreter": {
    "hash": "26de051ba29f2982a8de78e945f0abaf191376122a1563185a90213a26c5da77"
   }
  }
 },
 "nbformat": 4,
 "nbformat_minor": 2
}
